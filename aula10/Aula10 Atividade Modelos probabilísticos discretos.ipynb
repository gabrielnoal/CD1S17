{
 "cells": [
  {
   "cell_type": "markdown",
   "metadata": {},
   "source": [
    "___\n",
    "# Atividade: Modelos probabilísticos discretos e Dados\n",
    "___\n",
    "\n",
    "## Aula 10\n",
    "\n",
    "**Referência de Leitura:**\n",
    "1. Magalhães e Lima (7ª. Edição): Seções 3.2 e 3.3\n",
    "\n",
    "**Hoje:**\n",
    "1.\tDescrever modelos discretos quanto aos resultados teóricos.\n",
    "2.\tExplicar a utilização de modelos probabilísticos no contexto da literatura estatística.\n",
    "3.\tContrastar resultados teóricos e empíricos.\n",
    "4.\tFechamento do conteúdo.\n",
    "\n",
    "**Próxima aula:**\n",
    "1. Leitura prévia necessária: Magalhães e Lima (7ª. Edição): Seção 5.1 (pág. 137) e Seção 5.2 (pág. 146).\n",
    "___"
   ]
  },
  {
   "cell_type": "code",
   "execution_count": 1,
   "metadata": {
    "collapsed": true
   },
   "outputs": [],
   "source": [
    "%matplotlib inline\n",
    "import pandas as pd\n",
    "import matplotlib.pyplot as plt\n",
    "import math\n",
    "\n",
    "from scipy import stats #importa apenas as funções de estatísticas da biblioteca SciPy.\n",
    "import itertools #importante para gerar todos os resultados possíveis!!\n"
   ]
  },
  {
   "cell_type": "markdown",
   "metadata": {},
   "source": [
    "___\n",
    "## <font color='blue'>Exercício 1</font>\n",
    "\n",
    "Um resistor de 100K Ohms comprado na Santa Efigênia tem probabilidade de falha de 5%, segundo um fabricante ruim.\n",
    "\n",
    "Ainda, por suposição, admita que os resistores falhem de forma independente entre si.\n",
    "\n",
    "Um aluno de engenharia compra um pacote contendo $n$ resistores.\n",
    "\n",
    "1. Assuma $n=3$ e faça os itens a seguir.\n",
    "  1. Monte o espaço amostral que combine todos os resultados possíveis de Falha e não Falha desses $n$ resistores. Ainda, calcule a probabilidade de cada resultado do espaço amostral acontecer.\n",
    "  2. Se $Y$ representa o número de resistores que falham em um pacotinho com $n$ resistores, então construa a distribuição de probabilidades de $Y$.\n",
    "  3. Calcule a média e o desvio padrão de $Y$. Interprete os resultados.\n",
    "  4. Utilizando o modelo probabilístico da distribuição Binomial, encontre a distribuição de probabilidades de cada possível valor de $Y$. Calcule também $E(Y)$ e $Var(Y)$. Compare com as distribuições de probabilidades obtidas nos itens anteriores e discuta porque esses valores são iguais ou diferentes!\n",
    "   \n",
    "2. Assuma $n=7$ e repita os itens A) a D) anteriores. No caso de $n=7$ ou maiores quantidades de resistores em um pacotinho, qual a viabilidade de construir a distribuição de probabilidades do número de resistores com defeitos quando $n$ não é pequeno seguindo os itens de A) a C)?\n",
    "    \n",
    "> \n",
    "\n",
    "> **DISTRIBUIÇÃO BINOMIAL - TEORIA:**\n",
    "\n",
    "> É responsável por modelar uma variável $Y$ definida pelo Número de sucessos em $n$ tentativas, cuja probabilidade de sucesso é dada por $p$. Assim, dizemos que $Y$~$Bin(n,p)$ e lê-se: $Y$ segue uma distribuição binomial com $n$ tentativas e $p$ como probabilidade de sucesso. \n",
    "\n",
    "> A função de probabilidade nesse caso é dada por:\n",
    "$P(Y=y)=\\left(\n",
    "\\begin{array}{c}\n",
    "    n \\\\\n",
    "    y\n",
    "\\end{array}\\right) p^y (1-p)^{(n-y)}$\n",
    "\n",
    "> Para um experimento ter as probabilidade dos números de sucessos modeladas por uma distribuição Binomial, o mesmo precisa ter as seguintes propriedades:\n",
    "* é uma contagem de $n$ repetições (ou tentativas ou ensaios) idênticas;\n",
    "* cada repetição tem apenas 2 resultados possíveis: um é denominado sucesso e o outro, fracasso;\n",
    "* a probabilidade de sucesso para cada ensaio é denominada $p$ e será constante em cada repetição. Então, a probabilidade de fracasso $(1-p)$ também não varia de tentativa para tentativa;\n",
    "* As tentativas são independentes.\n",
    "\n",
    "\n",
    "> **DISTRIBUIÇÃO BINOMIAL - PYTHON:** <sup> [https://en.wikipedia.org/wiki/SciPy]\n",
    "\n",
    "> Algumas funções úteis para desenvolver seu código: <sup> [http://docs.scipy.org/doc/scipy-0.16.1/reference/generated/scipy.stats.binom.html]\n",
    "* $P(Y=y)$: `stats.binom.pmf(y, n, p)`\n",
    "* $P(Y\\leq y)$: `stats.binom.cdf(y, n, p)`\n",
    "* $E(Y)$ e $Var(Y)$: `stats.binom.stats(n, p, moments='mv')`\n"
   ]
  },
  {
   "cell_type": "markdown",
   "metadata": {},
   "source": [
    "## 1.A)"
   ]
  },
  {
   "cell_type": "code",
   "execution_count": 2,
   "metadata": {
    "collapsed": false
   },
   "outputs": [],
   "source": [
    "possibilidades = [\"Ruim\", \"Bom\"]\n",
    "prob = {\"Ruim\": 0.05, \"Bom\": 0.95}\n",
    "\n",
    "#item 1\n",
    "n=3\n",
    "arranjos = itertools.product(possibilidades, repeat=n)\n",
    "espaco_amostral = list(arranjos)\n"
   ]
  },
  {
   "cell_type": "code",
   "execution_count": 3,
   "metadata": {
    "collapsed": false
   },
   "outputs": [
    {
     "data": {
      "text/plain": [
       "[('Ruim', 'Ruim', 'Ruim'),\n",
       " ('Ruim', 'Ruim', 'Bom'),\n",
       " ('Ruim', 'Bom', 'Ruim'),\n",
       " ('Ruim', 'Bom', 'Bom'),\n",
       " ('Bom', 'Ruim', 'Ruim'),\n",
       " ('Bom', 'Ruim', 'Bom'),\n",
       " ('Bom', 'Bom', 'Ruim'),\n",
       " ('Bom', 'Bom', 'Bom')]"
      ]
     },
     "execution_count": 3,
     "metadata": {},
     "output_type": "execute_result"
    }
   ],
   "source": [
    "espaco_amostral"
   ]
  },
  {
   "cell_type": "code",
   "execution_count": 4,
   "metadata": {
    "collapsed": false
   },
   "outputs": [
    {
     "name": "stdout",
     "output_type": "stream",
     "text": [
      "Probabilidade de  ('Ruim', 'Ruim', 'Ruim')  é igual a  0.00013\n",
      "Probabilidade de  ('Ruim', 'Ruim', 'Bom')  é igual a  0.00238\n",
      "Probabilidade de  ('Ruim', 'Bom', 'Ruim')  é igual a  0.00238\n",
      "Probabilidade de  ('Ruim', 'Bom', 'Bom')  é igual a  0.04512\n",
      "Probabilidade de  ('Bom', 'Ruim', 'Ruim')  é igual a  0.00238\n",
      "Probabilidade de  ('Bom', 'Ruim', 'Bom')  é igual a  0.04512\n",
      "Probabilidade de  ('Bom', 'Bom', 'Ruim')  é igual a  0.04512\n",
      "Probabilidade de  ('Bom', 'Bom', 'Bom')  é igual a  0.85737\n"
     ]
    }
   ],
   "source": [
    "prob_linhas = []\n",
    "\n",
    "for res in espaco_amostral:\n",
    "    p = 1.0\n",
    "    for e in res:\n",
    "        p*=prob[e]\n",
    "    prob_linhas.append(p)\n",
    "    print(\"Probabilidade de \",res,\" é igual a \",\"%3.5f\"%p)"
   ]
  },
  {
   "cell_type": "code",
   "execution_count": 5,
   "metadata": {
    "collapsed": false
   },
   "outputs": [
    {
     "data": {
      "text/plain": [
       "'1.00000'"
      ]
     },
     "execution_count": 5,
     "metadata": {},
     "output_type": "execute_result"
    }
   ],
   "source": [
    "\"%3.5f\"%sum(prob_linhas)"
   ]
  },
  {
   "cell_type": "markdown",
   "metadata": {},
   "source": [
    "## 1.B)"
   ]
  },
  {
   "cell_type": "code",
   "execution_count": 6,
   "metadata": {
    "collapsed": true
   },
   "outputs": [],
   "source": [
    "# Dicionário para acumular a variável aleatória. \n",
    "valores_Y = {}"
   ]
  },
  {
   "cell_type": "code",
   "execution_count": 7,
   "metadata": {
    "collapsed": true
   },
   "outputs": [],
   "source": [
    "for i in range(len(espaco_amostral)):\n",
    "    y = espaco_amostral[i].count(\"Ruim\")\n",
    "    # Checar antes se a chave está no dicionário\n",
    "    if y in valores_Y:\n",
    "        valores_Y[y] += prob_linhas[i]\n",
    "    else:\n",
    "        valores_Y[y] = prob_linhas[i]\n",
    "        "
   ]
  },
  {
   "cell_type": "code",
   "execution_count": 8,
   "metadata": {
    "collapsed": false
   },
   "outputs": [
    {
     "name": "stdout",
     "output_type": "stream",
     "text": [
      "Distribuição de probabilidades da variável aleatória Y - Resistores Ruim\n",
      "\n",
      "Resistores ruim:  0  Probabilidade 0.85737 \n",
      "Resistores ruim:  1  Probabilidade 0.13537 \n",
      "Resistores ruim:  2  Probabilidade 0.00713 \n",
      "Resistores ruim:  3  Probabilidade 0.00013 \n"
     ]
    }
   ],
   "source": [
    "print(\"Distribuição de probabilidades da variável aleatória Y - Resistores Ruim\")\n",
    "print('')\n",
    "for y in valores_Y:\n",
    "    print(\"Resistores ruim: \", y, \" Probabilidade\", \"%6.5f \"%valores_Y[y])"
   ]
  },
  {
   "cell_type": "markdown",
   "metadata": {},
   "source": [
    "## 1.C"
   ]
  },
  {
   "cell_type": "code",
   "execution_count": 9,
   "metadata": {
    "collapsed": false
   },
   "outputs": [
    {
     "name": "stdout",
     "output_type": "stream",
     "text": [
      "E(Y)= 0.15\n",
      "Var(Y) 0.1425\n",
      "σ(Y)= 0.37749\n"
     ]
    }
   ],
   "source": [
    "E=0\n",
    "for y in valores_Y:\n",
    "    E += y*valores_Y[y]\n",
    "    \n",
    "print('E(Y)=',E)\n",
    "\n",
    "var=0\n",
    "for y in valores_Y:\n",
    "    var += ((y-E)**2)*valores_Y[y]\n",
    "\n",
    "print('Var(Y)',var)\n",
    "dp = math.sqrt(var)\n",
    "print('σ(Y)=',round(dp,5))"
   ]
  },
  {
   "cell_type": "markdown",
   "metadata": {},
   "source": [
    "### Interpretanto a Média e o desvio padrão (σ):\n",
    "\n",
    " Se pegasse um pacote com 3 resistores espero que praticamente nenhum falhe."
   ]
  },
  {
   "cell_type": "markdown",
   "metadata": {},
   "source": [
    "## 1.D)"
   ]
  },
  {
   "cell_type": "markdown",
   "metadata": {},
   "source": [
    "> A função de probabilidade nesse caso é dada por:\n",
    "$P(Y=y)=\\left(\n",
    "\\begin{array}{c}\n",
    "    n \\\\\n",
    "    y\n",
    "\\end{array}\\right) p^y (1-p)^{(n-y)}$"
   ]
  },
  {
   "cell_type": "code",
   "execution_count": 10,
   "metadata": {
    "collapsed": false
   },
   "outputs": [
    {
     "name": "stdout",
     "output_type": "stream",
     "text": [
      "Distribuição Binomial P(Y=0) = 0.8573749999999999\n",
      "Distribuição Binomial P(Y=1) = 0.13537500000000002\n",
      "Distribuição Binomial P(Y=2) = 0.007125000000000001\n",
      "Distribuição Binomial P(Y=3) = 0.00012500000000000003\n",
      "Média: 0.15000000000000002\n",
      "Variancia: 0.14250000000000002\n",
      "Desvio padrão: 0.37749\n"
     ]
    }
   ],
   "source": [
    "from math import factorial\n",
    "\n",
    "def fact(n,y):\n",
    "    return factorial(n)/(factorial(y)*(factorial(n-y)))\n",
    "    \n",
    "def binomial(n,y):\n",
    "    for y in range(len(valores_Y)):\n",
    "        a = fact(n,y)*(0.05**y)*(0.95**(n-y))\n",
    "        print(\"Distribuição Binomial P(Y={0}) = {1}\".format(y,a))\n",
    "\n",
    "p = 0.05 #prob de sucesso\n",
    "esp , var2 = stats.binom.stats(n, p, moments='mv')\n",
    "dp2 = math.sqrt(var2)\n",
    "binomial(n,y)\n",
    "print('Média:',esp)\n",
    "print('Variancia:',var2)\n",
    "print('Desvio padrão:',round(dp2,5))"
   ]
  },
  {
   "cell_type": "markdown",
   "metadata": {},
   "source": [
    "O arranjo e a distribuição binomial são iguais pois o modelo modelo binomial le o arranjo. Ou seja, não é preciso fazer todos os casos, tendo as variaveis nescessarias você consegue calcular de uma só vez."
   ]
  },
  {
   "cell_type": "markdown",
   "metadata": {},
   "source": [
    "## 2.A)"
   ]
  },
  {
   "cell_type": "code",
   "execution_count": 11,
   "metadata": {
    "collapsed": false
   },
   "outputs": [
    {
     "data": {
      "text/plain": [
       "[('Ruim', 'Ruim', 'Ruim', 'Ruim', 'Ruim', 'Ruim', 'Ruim'),\n",
       " ('Ruim', 'Ruim', 'Ruim', 'Ruim', 'Ruim', 'Ruim', 'Bom'),\n",
       " ('Ruim', 'Ruim', 'Ruim', 'Ruim', 'Ruim', 'Bom', 'Ruim'),\n",
       " ('Ruim', 'Ruim', 'Ruim', 'Ruim', 'Ruim', 'Bom', 'Bom'),\n",
       " ('Ruim', 'Ruim', 'Ruim', 'Ruim', 'Bom', 'Ruim', 'Ruim'),\n",
       " ('Ruim', 'Ruim', 'Ruim', 'Ruim', 'Bom', 'Ruim', 'Bom'),\n",
       " ('Ruim', 'Ruim', 'Ruim', 'Ruim', 'Bom', 'Bom', 'Ruim'),\n",
       " ('Ruim', 'Ruim', 'Ruim', 'Ruim', 'Bom', 'Bom', 'Bom'),\n",
       " ('Ruim', 'Ruim', 'Ruim', 'Bom', 'Ruim', 'Ruim', 'Ruim'),\n",
       " ('Ruim', 'Ruim', 'Ruim', 'Bom', 'Ruim', 'Ruim', 'Bom'),\n",
       " ('Ruim', 'Ruim', 'Ruim', 'Bom', 'Ruim', 'Bom', 'Ruim'),\n",
       " ('Ruim', 'Ruim', 'Ruim', 'Bom', 'Ruim', 'Bom', 'Bom'),\n",
       " ('Ruim', 'Ruim', 'Ruim', 'Bom', 'Bom', 'Ruim', 'Ruim'),\n",
       " ('Ruim', 'Ruim', 'Ruim', 'Bom', 'Bom', 'Ruim', 'Bom'),\n",
       " ('Ruim', 'Ruim', 'Ruim', 'Bom', 'Bom', 'Bom', 'Ruim'),\n",
       " ('Ruim', 'Ruim', 'Ruim', 'Bom', 'Bom', 'Bom', 'Bom'),\n",
       " ('Ruim', 'Ruim', 'Bom', 'Ruim', 'Ruim', 'Ruim', 'Ruim'),\n",
       " ('Ruim', 'Ruim', 'Bom', 'Ruim', 'Ruim', 'Ruim', 'Bom'),\n",
       " ('Ruim', 'Ruim', 'Bom', 'Ruim', 'Ruim', 'Bom', 'Ruim'),\n",
       " ('Ruim', 'Ruim', 'Bom', 'Ruim', 'Ruim', 'Bom', 'Bom'),\n",
       " ('Ruim', 'Ruim', 'Bom', 'Ruim', 'Bom', 'Ruim', 'Ruim'),\n",
       " ('Ruim', 'Ruim', 'Bom', 'Ruim', 'Bom', 'Ruim', 'Bom'),\n",
       " ('Ruim', 'Ruim', 'Bom', 'Ruim', 'Bom', 'Bom', 'Ruim'),\n",
       " ('Ruim', 'Ruim', 'Bom', 'Ruim', 'Bom', 'Bom', 'Bom'),\n",
       " ('Ruim', 'Ruim', 'Bom', 'Bom', 'Ruim', 'Ruim', 'Ruim'),\n",
       " ('Ruim', 'Ruim', 'Bom', 'Bom', 'Ruim', 'Ruim', 'Bom'),\n",
       " ('Ruim', 'Ruim', 'Bom', 'Bom', 'Ruim', 'Bom', 'Ruim'),\n",
       " ('Ruim', 'Ruim', 'Bom', 'Bom', 'Ruim', 'Bom', 'Bom'),\n",
       " ('Ruim', 'Ruim', 'Bom', 'Bom', 'Bom', 'Ruim', 'Ruim'),\n",
       " ('Ruim', 'Ruim', 'Bom', 'Bom', 'Bom', 'Ruim', 'Bom'),\n",
       " ('Ruim', 'Ruim', 'Bom', 'Bom', 'Bom', 'Bom', 'Ruim'),\n",
       " ('Ruim', 'Ruim', 'Bom', 'Bom', 'Bom', 'Bom', 'Bom'),\n",
       " ('Ruim', 'Bom', 'Ruim', 'Ruim', 'Ruim', 'Ruim', 'Ruim'),\n",
       " ('Ruim', 'Bom', 'Ruim', 'Ruim', 'Ruim', 'Ruim', 'Bom'),\n",
       " ('Ruim', 'Bom', 'Ruim', 'Ruim', 'Ruim', 'Bom', 'Ruim'),\n",
       " ('Ruim', 'Bom', 'Ruim', 'Ruim', 'Ruim', 'Bom', 'Bom'),\n",
       " ('Ruim', 'Bom', 'Ruim', 'Ruim', 'Bom', 'Ruim', 'Ruim'),\n",
       " ('Ruim', 'Bom', 'Ruim', 'Ruim', 'Bom', 'Ruim', 'Bom'),\n",
       " ('Ruim', 'Bom', 'Ruim', 'Ruim', 'Bom', 'Bom', 'Ruim'),\n",
       " ('Ruim', 'Bom', 'Ruim', 'Ruim', 'Bom', 'Bom', 'Bom'),\n",
       " ('Ruim', 'Bom', 'Ruim', 'Bom', 'Ruim', 'Ruim', 'Ruim'),\n",
       " ('Ruim', 'Bom', 'Ruim', 'Bom', 'Ruim', 'Ruim', 'Bom'),\n",
       " ('Ruim', 'Bom', 'Ruim', 'Bom', 'Ruim', 'Bom', 'Ruim'),\n",
       " ('Ruim', 'Bom', 'Ruim', 'Bom', 'Ruim', 'Bom', 'Bom'),\n",
       " ('Ruim', 'Bom', 'Ruim', 'Bom', 'Bom', 'Ruim', 'Ruim'),\n",
       " ('Ruim', 'Bom', 'Ruim', 'Bom', 'Bom', 'Ruim', 'Bom'),\n",
       " ('Ruim', 'Bom', 'Ruim', 'Bom', 'Bom', 'Bom', 'Ruim'),\n",
       " ('Ruim', 'Bom', 'Ruim', 'Bom', 'Bom', 'Bom', 'Bom'),\n",
       " ('Ruim', 'Bom', 'Bom', 'Ruim', 'Ruim', 'Ruim', 'Ruim'),\n",
       " ('Ruim', 'Bom', 'Bom', 'Ruim', 'Ruim', 'Ruim', 'Bom'),\n",
       " ('Ruim', 'Bom', 'Bom', 'Ruim', 'Ruim', 'Bom', 'Ruim'),\n",
       " ('Ruim', 'Bom', 'Bom', 'Ruim', 'Ruim', 'Bom', 'Bom'),\n",
       " ('Ruim', 'Bom', 'Bom', 'Ruim', 'Bom', 'Ruim', 'Ruim'),\n",
       " ('Ruim', 'Bom', 'Bom', 'Ruim', 'Bom', 'Ruim', 'Bom'),\n",
       " ('Ruim', 'Bom', 'Bom', 'Ruim', 'Bom', 'Bom', 'Ruim'),\n",
       " ('Ruim', 'Bom', 'Bom', 'Ruim', 'Bom', 'Bom', 'Bom'),\n",
       " ('Ruim', 'Bom', 'Bom', 'Bom', 'Ruim', 'Ruim', 'Ruim'),\n",
       " ('Ruim', 'Bom', 'Bom', 'Bom', 'Ruim', 'Ruim', 'Bom'),\n",
       " ('Ruim', 'Bom', 'Bom', 'Bom', 'Ruim', 'Bom', 'Ruim'),\n",
       " ('Ruim', 'Bom', 'Bom', 'Bom', 'Ruim', 'Bom', 'Bom'),\n",
       " ('Ruim', 'Bom', 'Bom', 'Bom', 'Bom', 'Ruim', 'Ruim'),\n",
       " ('Ruim', 'Bom', 'Bom', 'Bom', 'Bom', 'Ruim', 'Bom'),\n",
       " ('Ruim', 'Bom', 'Bom', 'Bom', 'Bom', 'Bom', 'Ruim'),\n",
       " ('Ruim', 'Bom', 'Bom', 'Bom', 'Bom', 'Bom', 'Bom'),\n",
       " ('Bom', 'Ruim', 'Ruim', 'Ruim', 'Ruim', 'Ruim', 'Ruim'),\n",
       " ('Bom', 'Ruim', 'Ruim', 'Ruim', 'Ruim', 'Ruim', 'Bom'),\n",
       " ('Bom', 'Ruim', 'Ruim', 'Ruim', 'Ruim', 'Bom', 'Ruim'),\n",
       " ('Bom', 'Ruim', 'Ruim', 'Ruim', 'Ruim', 'Bom', 'Bom'),\n",
       " ('Bom', 'Ruim', 'Ruim', 'Ruim', 'Bom', 'Ruim', 'Ruim'),\n",
       " ('Bom', 'Ruim', 'Ruim', 'Ruim', 'Bom', 'Ruim', 'Bom'),\n",
       " ('Bom', 'Ruim', 'Ruim', 'Ruim', 'Bom', 'Bom', 'Ruim'),\n",
       " ('Bom', 'Ruim', 'Ruim', 'Ruim', 'Bom', 'Bom', 'Bom'),\n",
       " ('Bom', 'Ruim', 'Ruim', 'Bom', 'Ruim', 'Ruim', 'Ruim'),\n",
       " ('Bom', 'Ruim', 'Ruim', 'Bom', 'Ruim', 'Ruim', 'Bom'),\n",
       " ('Bom', 'Ruim', 'Ruim', 'Bom', 'Ruim', 'Bom', 'Ruim'),\n",
       " ('Bom', 'Ruim', 'Ruim', 'Bom', 'Ruim', 'Bom', 'Bom'),\n",
       " ('Bom', 'Ruim', 'Ruim', 'Bom', 'Bom', 'Ruim', 'Ruim'),\n",
       " ('Bom', 'Ruim', 'Ruim', 'Bom', 'Bom', 'Ruim', 'Bom'),\n",
       " ('Bom', 'Ruim', 'Ruim', 'Bom', 'Bom', 'Bom', 'Ruim'),\n",
       " ('Bom', 'Ruim', 'Ruim', 'Bom', 'Bom', 'Bom', 'Bom'),\n",
       " ('Bom', 'Ruim', 'Bom', 'Ruim', 'Ruim', 'Ruim', 'Ruim'),\n",
       " ('Bom', 'Ruim', 'Bom', 'Ruim', 'Ruim', 'Ruim', 'Bom'),\n",
       " ('Bom', 'Ruim', 'Bom', 'Ruim', 'Ruim', 'Bom', 'Ruim'),\n",
       " ('Bom', 'Ruim', 'Bom', 'Ruim', 'Ruim', 'Bom', 'Bom'),\n",
       " ('Bom', 'Ruim', 'Bom', 'Ruim', 'Bom', 'Ruim', 'Ruim'),\n",
       " ('Bom', 'Ruim', 'Bom', 'Ruim', 'Bom', 'Ruim', 'Bom'),\n",
       " ('Bom', 'Ruim', 'Bom', 'Ruim', 'Bom', 'Bom', 'Ruim'),\n",
       " ('Bom', 'Ruim', 'Bom', 'Ruim', 'Bom', 'Bom', 'Bom'),\n",
       " ('Bom', 'Ruim', 'Bom', 'Bom', 'Ruim', 'Ruim', 'Ruim'),\n",
       " ('Bom', 'Ruim', 'Bom', 'Bom', 'Ruim', 'Ruim', 'Bom'),\n",
       " ('Bom', 'Ruim', 'Bom', 'Bom', 'Ruim', 'Bom', 'Ruim'),\n",
       " ('Bom', 'Ruim', 'Bom', 'Bom', 'Ruim', 'Bom', 'Bom'),\n",
       " ('Bom', 'Ruim', 'Bom', 'Bom', 'Bom', 'Ruim', 'Ruim'),\n",
       " ('Bom', 'Ruim', 'Bom', 'Bom', 'Bom', 'Ruim', 'Bom'),\n",
       " ('Bom', 'Ruim', 'Bom', 'Bom', 'Bom', 'Bom', 'Ruim'),\n",
       " ('Bom', 'Ruim', 'Bom', 'Bom', 'Bom', 'Bom', 'Bom'),\n",
       " ('Bom', 'Bom', 'Ruim', 'Ruim', 'Ruim', 'Ruim', 'Ruim'),\n",
       " ('Bom', 'Bom', 'Ruim', 'Ruim', 'Ruim', 'Ruim', 'Bom'),\n",
       " ('Bom', 'Bom', 'Ruim', 'Ruim', 'Ruim', 'Bom', 'Ruim'),\n",
       " ('Bom', 'Bom', 'Ruim', 'Ruim', 'Ruim', 'Bom', 'Bom'),\n",
       " ('Bom', 'Bom', 'Ruim', 'Ruim', 'Bom', 'Ruim', 'Ruim'),\n",
       " ('Bom', 'Bom', 'Ruim', 'Ruim', 'Bom', 'Ruim', 'Bom'),\n",
       " ('Bom', 'Bom', 'Ruim', 'Ruim', 'Bom', 'Bom', 'Ruim'),\n",
       " ('Bom', 'Bom', 'Ruim', 'Ruim', 'Bom', 'Bom', 'Bom'),\n",
       " ('Bom', 'Bom', 'Ruim', 'Bom', 'Ruim', 'Ruim', 'Ruim'),\n",
       " ('Bom', 'Bom', 'Ruim', 'Bom', 'Ruim', 'Ruim', 'Bom'),\n",
       " ('Bom', 'Bom', 'Ruim', 'Bom', 'Ruim', 'Bom', 'Ruim'),\n",
       " ('Bom', 'Bom', 'Ruim', 'Bom', 'Ruim', 'Bom', 'Bom'),\n",
       " ('Bom', 'Bom', 'Ruim', 'Bom', 'Bom', 'Ruim', 'Ruim'),\n",
       " ('Bom', 'Bom', 'Ruim', 'Bom', 'Bom', 'Ruim', 'Bom'),\n",
       " ('Bom', 'Bom', 'Ruim', 'Bom', 'Bom', 'Bom', 'Ruim'),\n",
       " ('Bom', 'Bom', 'Ruim', 'Bom', 'Bom', 'Bom', 'Bom'),\n",
       " ('Bom', 'Bom', 'Bom', 'Ruim', 'Ruim', 'Ruim', 'Ruim'),\n",
       " ('Bom', 'Bom', 'Bom', 'Ruim', 'Ruim', 'Ruim', 'Bom'),\n",
       " ('Bom', 'Bom', 'Bom', 'Ruim', 'Ruim', 'Bom', 'Ruim'),\n",
       " ('Bom', 'Bom', 'Bom', 'Ruim', 'Ruim', 'Bom', 'Bom'),\n",
       " ('Bom', 'Bom', 'Bom', 'Ruim', 'Bom', 'Ruim', 'Ruim'),\n",
       " ('Bom', 'Bom', 'Bom', 'Ruim', 'Bom', 'Ruim', 'Bom'),\n",
       " ('Bom', 'Bom', 'Bom', 'Ruim', 'Bom', 'Bom', 'Ruim'),\n",
       " ('Bom', 'Bom', 'Bom', 'Ruim', 'Bom', 'Bom', 'Bom'),\n",
       " ('Bom', 'Bom', 'Bom', 'Bom', 'Ruim', 'Ruim', 'Ruim'),\n",
       " ('Bom', 'Bom', 'Bom', 'Bom', 'Ruim', 'Ruim', 'Bom'),\n",
       " ('Bom', 'Bom', 'Bom', 'Bom', 'Ruim', 'Bom', 'Ruim'),\n",
       " ('Bom', 'Bom', 'Bom', 'Bom', 'Ruim', 'Bom', 'Bom'),\n",
       " ('Bom', 'Bom', 'Bom', 'Bom', 'Bom', 'Ruim', 'Ruim'),\n",
       " ('Bom', 'Bom', 'Bom', 'Bom', 'Bom', 'Ruim', 'Bom'),\n",
       " ('Bom', 'Bom', 'Bom', 'Bom', 'Bom', 'Bom', 'Ruim'),\n",
       " ('Bom', 'Bom', 'Bom', 'Bom', 'Bom', 'Bom', 'Bom')]"
      ]
     },
     "execution_count": 11,
     "metadata": {},
     "output_type": "execute_result"
    }
   ],
   "source": [
    "n=7\n",
    "arranjos = itertools.product(possibilidades, repeat=n)\n",
    "espaco_amostral = list(arranjos)\n",
    "\n",
    "espaco_amostral"
   ]
  },
  {
   "cell_type": "code",
   "execution_count": 12,
   "metadata": {
    "collapsed": false
   },
   "outputs": [
    {
     "name": "stdout",
     "output_type": "stream",
     "text": [
      "Probabilidade de  ('Ruim', 'Ruim', 'Ruim', 'Ruim', 'Ruim', 'Ruim', 'Ruim')  é igual a  0.00000\n",
      "Probabilidade de  ('Ruim', 'Ruim', 'Ruim', 'Ruim', 'Ruim', 'Ruim', 'Bom')  é igual a  0.00000\n",
      "Probabilidade de  ('Ruim', 'Ruim', 'Ruim', 'Ruim', 'Ruim', 'Bom', 'Ruim')  é igual a  0.00000\n",
      "Probabilidade de  ('Ruim', 'Ruim', 'Ruim', 'Ruim', 'Ruim', 'Bom', 'Bom')  é igual a  0.00000\n",
      "Probabilidade de  ('Ruim', 'Ruim', 'Ruim', 'Ruim', 'Bom', 'Ruim', 'Ruim')  é igual a  0.00000\n",
      "Probabilidade de  ('Ruim', 'Ruim', 'Ruim', 'Ruim', 'Bom', 'Ruim', 'Bom')  é igual a  0.00000\n",
      "Probabilidade de  ('Ruim', 'Ruim', 'Ruim', 'Ruim', 'Bom', 'Bom', 'Ruim')  é igual a  0.00000\n",
      "Probabilidade de  ('Ruim', 'Ruim', 'Ruim', 'Ruim', 'Bom', 'Bom', 'Bom')  é igual a  0.00001\n",
      "Probabilidade de  ('Ruim', 'Ruim', 'Ruim', 'Bom', 'Ruim', 'Ruim', 'Ruim')  é igual a  0.00000\n",
      "Probabilidade de  ('Ruim', 'Ruim', 'Ruim', 'Bom', 'Ruim', 'Ruim', 'Bom')  é igual a  0.00000\n",
      "Probabilidade de  ('Ruim', 'Ruim', 'Ruim', 'Bom', 'Ruim', 'Bom', 'Ruim')  é igual a  0.00000\n",
      "Probabilidade de  ('Ruim', 'Ruim', 'Ruim', 'Bom', 'Ruim', 'Bom', 'Bom')  é igual a  0.00001\n",
      "Probabilidade de  ('Ruim', 'Ruim', 'Ruim', 'Bom', 'Bom', 'Ruim', 'Ruim')  é igual a  0.00000\n",
      "Probabilidade de  ('Ruim', 'Ruim', 'Ruim', 'Bom', 'Bom', 'Ruim', 'Bom')  é igual a  0.00001\n",
      "Probabilidade de  ('Ruim', 'Ruim', 'Ruim', 'Bom', 'Bom', 'Bom', 'Ruim')  é igual a  0.00001\n",
      "Probabilidade de  ('Ruim', 'Ruim', 'Ruim', 'Bom', 'Bom', 'Bom', 'Bom')  é igual a  0.00010\n",
      "Probabilidade de  ('Ruim', 'Ruim', 'Bom', 'Ruim', 'Ruim', 'Ruim', 'Ruim')  é igual a  0.00000\n",
      "Probabilidade de  ('Ruim', 'Ruim', 'Bom', 'Ruim', 'Ruim', 'Ruim', 'Bom')  é igual a  0.00000\n",
      "Probabilidade de  ('Ruim', 'Ruim', 'Bom', 'Ruim', 'Ruim', 'Bom', 'Ruim')  é igual a  0.00000\n",
      "Probabilidade de  ('Ruim', 'Ruim', 'Bom', 'Ruim', 'Ruim', 'Bom', 'Bom')  é igual a  0.00001\n",
      "Probabilidade de  ('Ruim', 'Ruim', 'Bom', 'Ruim', 'Bom', 'Ruim', 'Ruim')  é igual a  0.00000\n",
      "Probabilidade de  ('Ruim', 'Ruim', 'Bom', 'Ruim', 'Bom', 'Ruim', 'Bom')  é igual a  0.00001\n",
      "Probabilidade de  ('Ruim', 'Ruim', 'Bom', 'Ruim', 'Bom', 'Bom', 'Ruim')  é igual a  0.00001\n",
      "Probabilidade de  ('Ruim', 'Ruim', 'Bom', 'Ruim', 'Bom', 'Bom', 'Bom')  é igual a  0.00010\n",
      "Probabilidade de  ('Ruim', 'Ruim', 'Bom', 'Bom', 'Ruim', 'Ruim', 'Ruim')  é igual a  0.00000\n",
      "Probabilidade de  ('Ruim', 'Ruim', 'Bom', 'Bom', 'Ruim', 'Ruim', 'Bom')  é igual a  0.00001\n",
      "Probabilidade de  ('Ruim', 'Ruim', 'Bom', 'Bom', 'Ruim', 'Bom', 'Ruim')  é igual a  0.00001\n",
      "Probabilidade de  ('Ruim', 'Ruim', 'Bom', 'Bom', 'Ruim', 'Bom', 'Bom')  é igual a  0.00010\n",
      "Probabilidade de  ('Ruim', 'Ruim', 'Bom', 'Bom', 'Bom', 'Ruim', 'Ruim')  é igual a  0.00001\n",
      "Probabilidade de  ('Ruim', 'Ruim', 'Bom', 'Bom', 'Bom', 'Ruim', 'Bom')  é igual a  0.00010\n",
      "Probabilidade de  ('Ruim', 'Ruim', 'Bom', 'Bom', 'Bom', 'Bom', 'Ruim')  é igual a  0.00010\n",
      "Probabilidade de  ('Ruim', 'Ruim', 'Bom', 'Bom', 'Bom', 'Bom', 'Bom')  é igual a  0.00193\n",
      "Probabilidade de  ('Ruim', 'Bom', 'Ruim', 'Ruim', 'Ruim', 'Ruim', 'Ruim')  é igual a  0.00000\n",
      "Probabilidade de  ('Ruim', 'Bom', 'Ruim', 'Ruim', 'Ruim', 'Ruim', 'Bom')  é igual a  0.00000\n",
      "Probabilidade de  ('Ruim', 'Bom', 'Ruim', 'Ruim', 'Ruim', 'Bom', 'Ruim')  é igual a  0.00000\n",
      "Probabilidade de  ('Ruim', 'Bom', 'Ruim', 'Ruim', 'Ruim', 'Bom', 'Bom')  é igual a  0.00001\n",
      "Probabilidade de  ('Ruim', 'Bom', 'Ruim', 'Ruim', 'Bom', 'Ruim', 'Ruim')  é igual a  0.00000\n",
      "Probabilidade de  ('Ruim', 'Bom', 'Ruim', 'Ruim', 'Bom', 'Ruim', 'Bom')  é igual a  0.00001\n",
      "Probabilidade de  ('Ruim', 'Bom', 'Ruim', 'Ruim', 'Bom', 'Bom', 'Ruim')  é igual a  0.00001\n",
      "Probabilidade de  ('Ruim', 'Bom', 'Ruim', 'Ruim', 'Bom', 'Bom', 'Bom')  é igual a  0.00010\n",
      "Probabilidade de  ('Ruim', 'Bom', 'Ruim', 'Bom', 'Ruim', 'Ruim', 'Ruim')  é igual a  0.00000\n",
      "Probabilidade de  ('Ruim', 'Bom', 'Ruim', 'Bom', 'Ruim', 'Ruim', 'Bom')  é igual a  0.00001\n",
      "Probabilidade de  ('Ruim', 'Bom', 'Ruim', 'Bom', 'Ruim', 'Bom', 'Ruim')  é igual a  0.00001\n",
      "Probabilidade de  ('Ruim', 'Bom', 'Ruim', 'Bom', 'Ruim', 'Bom', 'Bom')  é igual a  0.00010\n",
      "Probabilidade de  ('Ruim', 'Bom', 'Ruim', 'Bom', 'Bom', 'Ruim', 'Ruim')  é igual a  0.00001\n",
      "Probabilidade de  ('Ruim', 'Bom', 'Ruim', 'Bom', 'Bom', 'Ruim', 'Bom')  é igual a  0.00010\n",
      "Probabilidade de  ('Ruim', 'Bom', 'Ruim', 'Bom', 'Bom', 'Bom', 'Ruim')  é igual a  0.00010\n",
      "Probabilidade de  ('Ruim', 'Bom', 'Ruim', 'Bom', 'Bom', 'Bom', 'Bom')  é igual a  0.00193\n",
      "Probabilidade de  ('Ruim', 'Bom', 'Bom', 'Ruim', 'Ruim', 'Ruim', 'Ruim')  é igual a  0.00000\n",
      "Probabilidade de  ('Ruim', 'Bom', 'Bom', 'Ruim', 'Ruim', 'Ruim', 'Bom')  é igual a  0.00001\n",
      "Probabilidade de  ('Ruim', 'Bom', 'Bom', 'Ruim', 'Ruim', 'Bom', 'Ruim')  é igual a  0.00001\n",
      "Probabilidade de  ('Ruim', 'Bom', 'Bom', 'Ruim', 'Ruim', 'Bom', 'Bom')  é igual a  0.00010\n",
      "Probabilidade de  ('Ruim', 'Bom', 'Bom', 'Ruim', 'Bom', 'Ruim', 'Ruim')  é igual a  0.00001\n",
      "Probabilidade de  ('Ruim', 'Bom', 'Bom', 'Ruim', 'Bom', 'Ruim', 'Bom')  é igual a  0.00010\n",
      "Probabilidade de  ('Ruim', 'Bom', 'Bom', 'Ruim', 'Bom', 'Bom', 'Ruim')  é igual a  0.00010\n",
      "Probabilidade de  ('Ruim', 'Bom', 'Bom', 'Ruim', 'Bom', 'Bom', 'Bom')  é igual a  0.00193\n",
      "Probabilidade de  ('Ruim', 'Bom', 'Bom', 'Bom', 'Ruim', 'Ruim', 'Ruim')  é igual a  0.00001\n",
      "Probabilidade de  ('Ruim', 'Bom', 'Bom', 'Bom', 'Ruim', 'Ruim', 'Bom')  é igual a  0.00010\n",
      "Probabilidade de  ('Ruim', 'Bom', 'Bom', 'Bom', 'Ruim', 'Bom', 'Ruim')  é igual a  0.00010\n",
      "Probabilidade de  ('Ruim', 'Bom', 'Bom', 'Bom', 'Ruim', 'Bom', 'Bom')  é igual a  0.00193\n",
      "Probabilidade de  ('Ruim', 'Bom', 'Bom', 'Bom', 'Bom', 'Ruim', 'Ruim')  é igual a  0.00010\n",
      "Probabilidade de  ('Ruim', 'Bom', 'Bom', 'Bom', 'Bom', 'Ruim', 'Bom')  é igual a  0.00193\n",
      "Probabilidade de  ('Ruim', 'Bom', 'Bom', 'Bom', 'Bom', 'Bom', 'Ruim')  é igual a  0.00193\n",
      "Probabilidade de  ('Ruim', 'Bom', 'Bom', 'Bom', 'Bom', 'Bom', 'Bom')  é igual a  0.03675\n",
      "Probabilidade de  ('Bom', 'Ruim', 'Ruim', 'Ruim', 'Ruim', 'Ruim', 'Ruim')  é igual a  0.00000\n",
      "Probabilidade de  ('Bom', 'Ruim', 'Ruim', 'Ruim', 'Ruim', 'Ruim', 'Bom')  é igual a  0.00000\n",
      "Probabilidade de  ('Bom', 'Ruim', 'Ruim', 'Ruim', 'Ruim', 'Bom', 'Ruim')  é igual a  0.00000\n",
      "Probabilidade de  ('Bom', 'Ruim', 'Ruim', 'Ruim', 'Ruim', 'Bom', 'Bom')  é igual a  0.00001\n",
      "Probabilidade de  ('Bom', 'Ruim', 'Ruim', 'Ruim', 'Bom', 'Ruim', 'Ruim')  é igual a  0.00000\n",
      "Probabilidade de  ('Bom', 'Ruim', 'Ruim', 'Ruim', 'Bom', 'Ruim', 'Bom')  é igual a  0.00001\n",
      "Probabilidade de  ('Bom', 'Ruim', 'Ruim', 'Ruim', 'Bom', 'Bom', 'Ruim')  é igual a  0.00001\n",
      "Probabilidade de  ('Bom', 'Ruim', 'Ruim', 'Ruim', 'Bom', 'Bom', 'Bom')  é igual a  0.00010\n",
      "Probabilidade de  ('Bom', 'Ruim', 'Ruim', 'Bom', 'Ruim', 'Ruim', 'Ruim')  é igual a  0.00000\n",
      "Probabilidade de  ('Bom', 'Ruim', 'Ruim', 'Bom', 'Ruim', 'Ruim', 'Bom')  é igual a  0.00001\n",
      "Probabilidade de  ('Bom', 'Ruim', 'Ruim', 'Bom', 'Ruim', 'Bom', 'Ruim')  é igual a  0.00001\n",
      "Probabilidade de  ('Bom', 'Ruim', 'Ruim', 'Bom', 'Ruim', 'Bom', 'Bom')  é igual a  0.00010\n",
      "Probabilidade de  ('Bom', 'Ruim', 'Ruim', 'Bom', 'Bom', 'Ruim', 'Ruim')  é igual a  0.00001\n",
      "Probabilidade de  ('Bom', 'Ruim', 'Ruim', 'Bom', 'Bom', 'Ruim', 'Bom')  é igual a  0.00010\n",
      "Probabilidade de  ('Bom', 'Ruim', 'Ruim', 'Bom', 'Bom', 'Bom', 'Ruim')  é igual a  0.00010\n",
      "Probabilidade de  ('Bom', 'Ruim', 'Ruim', 'Bom', 'Bom', 'Bom', 'Bom')  é igual a  0.00193\n",
      "Probabilidade de  ('Bom', 'Ruim', 'Bom', 'Ruim', 'Ruim', 'Ruim', 'Ruim')  é igual a  0.00000\n",
      "Probabilidade de  ('Bom', 'Ruim', 'Bom', 'Ruim', 'Ruim', 'Ruim', 'Bom')  é igual a  0.00001\n",
      "Probabilidade de  ('Bom', 'Ruim', 'Bom', 'Ruim', 'Ruim', 'Bom', 'Ruim')  é igual a  0.00001\n",
      "Probabilidade de  ('Bom', 'Ruim', 'Bom', 'Ruim', 'Ruim', 'Bom', 'Bom')  é igual a  0.00010\n",
      "Probabilidade de  ('Bom', 'Ruim', 'Bom', 'Ruim', 'Bom', 'Ruim', 'Ruim')  é igual a  0.00001\n",
      "Probabilidade de  ('Bom', 'Ruim', 'Bom', 'Ruim', 'Bom', 'Ruim', 'Bom')  é igual a  0.00010\n",
      "Probabilidade de  ('Bom', 'Ruim', 'Bom', 'Ruim', 'Bom', 'Bom', 'Ruim')  é igual a  0.00010\n",
      "Probabilidade de  ('Bom', 'Ruim', 'Bom', 'Ruim', 'Bom', 'Bom', 'Bom')  é igual a  0.00193\n",
      "Probabilidade de  ('Bom', 'Ruim', 'Bom', 'Bom', 'Ruim', 'Ruim', 'Ruim')  é igual a  0.00001\n",
      "Probabilidade de  ('Bom', 'Ruim', 'Bom', 'Bom', 'Ruim', 'Ruim', 'Bom')  é igual a  0.00010\n",
      "Probabilidade de  ('Bom', 'Ruim', 'Bom', 'Bom', 'Ruim', 'Bom', 'Ruim')  é igual a  0.00010\n",
      "Probabilidade de  ('Bom', 'Ruim', 'Bom', 'Bom', 'Ruim', 'Bom', 'Bom')  é igual a  0.00193\n",
      "Probabilidade de  ('Bom', 'Ruim', 'Bom', 'Bom', 'Bom', 'Ruim', 'Ruim')  é igual a  0.00010\n",
      "Probabilidade de  ('Bom', 'Ruim', 'Bom', 'Bom', 'Bom', 'Ruim', 'Bom')  é igual a  0.00193\n",
      "Probabilidade de  ('Bom', 'Ruim', 'Bom', 'Bom', 'Bom', 'Bom', 'Ruim')  é igual a  0.00193\n",
      "Probabilidade de  ('Bom', 'Ruim', 'Bom', 'Bom', 'Bom', 'Bom', 'Bom')  é igual a  0.03675\n",
      "Probabilidade de  ('Bom', 'Bom', 'Ruim', 'Ruim', 'Ruim', 'Ruim', 'Ruim')  é igual a  0.00000\n",
      "Probabilidade de  ('Bom', 'Bom', 'Ruim', 'Ruim', 'Ruim', 'Ruim', 'Bom')  é igual a  0.00001\n",
      "Probabilidade de  ('Bom', 'Bom', 'Ruim', 'Ruim', 'Ruim', 'Bom', 'Ruim')  é igual a  0.00001\n",
      "Probabilidade de  ('Bom', 'Bom', 'Ruim', 'Ruim', 'Ruim', 'Bom', 'Bom')  é igual a  0.00010\n",
      "Probabilidade de  ('Bom', 'Bom', 'Ruim', 'Ruim', 'Bom', 'Ruim', 'Ruim')  é igual a  0.00001\n",
      "Probabilidade de  ('Bom', 'Bom', 'Ruim', 'Ruim', 'Bom', 'Ruim', 'Bom')  é igual a  0.00010\n",
      "Probabilidade de  ('Bom', 'Bom', 'Ruim', 'Ruim', 'Bom', 'Bom', 'Ruim')  é igual a  0.00010\n",
      "Probabilidade de  ('Bom', 'Bom', 'Ruim', 'Ruim', 'Bom', 'Bom', 'Bom')  é igual a  0.00193\n",
      "Probabilidade de  ('Bom', 'Bom', 'Ruim', 'Bom', 'Ruim', 'Ruim', 'Ruim')  é igual a  0.00001\n",
      "Probabilidade de  ('Bom', 'Bom', 'Ruim', 'Bom', 'Ruim', 'Ruim', 'Bom')  é igual a  0.00010\n",
      "Probabilidade de  ('Bom', 'Bom', 'Ruim', 'Bom', 'Ruim', 'Bom', 'Ruim')  é igual a  0.00010\n",
      "Probabilidade de  ('Bom', 'Bom', 'Ruim', 'Bom', 'Ruim', 'Bom', 'Bom')  é igual a  0.00193\n",
      "Probabilidade de  ('Bom', 'Bom', 'Ruim', 'Bom', 'Bom', 'Ruim', 'Ruim')  é igual a  0.00010\n",
      "Probabilidade de  ('Bom', 'Bom', 'Ruim', 'Bom', 'Bom', 'Ruim', 'Bom')  é igual a  0.00193\n",
      "Probabilidade de  ('Bom', 'Bom', 'Ruim', 'Bom', 'Bom', 'Bom', 'Ruim')  é igual a  0.00193\n",
      "Probabilidade de  ('Bom', 'Bom', 'Ruim', 'Bom', 'Bom', 'Bom', 'Bom')  é igual a  0.03675\n",
      "Probabilidade de  ('Bom', 'Bom', 'Bom', 'Ruim', 'Ruim', 'Ruim', 'Ruim')  é igual a  0.00001\n",
      "Probabilidade de  ('Bom', 'Bom', 'Bom', 'Ruim', 'Ruim', 'Ruim', 'Bom')  é igual a  0.00010\n",
      "Probabilidade de  ('Bom', 'Bom', 'Bom', 'Ruim', 'Ruim', 'Bom', 'Ruim')  é igual a  0.00010\n",
      "Probabilidade de  ('Bom', 'Bom', 'Bom', 'Ruim', 'Ruim', 'Bom', 'Bom')  é igual a  0.00193\n",
      "Probabilidade de  ('Bom', 'Bom', 'Bom', 'Ruim', 'Bom', 'Ruim', 'Ruim')  é igual a  0.00010\n",
      "Probabilidade de  ('Bom', 'Bom', 'Bom', 'Ruim', 'Bom', 'Ruim', 'Bom')  é igual a  0.00193\n",
      "Probabilidade de  ('Bom', 'Bom', 'Bom', 'Ruim', 'Bom', 'Bom', 'Ruim')  é igual a  0.00193\n",
      "Probabilidade de  ('Bom', 'Bom', 'Bom', 'Ruim', 'Bom', 'Bom', 'Bom')  é igual a  0.03675\n",
      "Probabilidade de  ('Bom', 'Bom', 'Bom', 'Bom', 'Ruim', 'Ruim', 'Ruim')  é igual a  0.00010\n",
      "Probabilidade de  ('Bom', 'Bom', 'Bom', 'Bom', 'Ruim', 'Ruim', 'Bom')  é igual a  0.00193\n",
      "Probabilidade de  ('Bom', 'Bom', 'Bom', 'Bom', 'Ruim', 'Bom', 'Ruim')  é igual a  0.00193\n",
      "Probabilidade de  ('Bom', 'Bom', 'Bom', 'Bom', 'Ruim', 'Bom', 'Bom')  é igual a  0.03675\n",
      "Probabilidade de  ('Bom', 'Bom', 'Bom', 'Bom', 'Bom', 'Ruim', 'Ruim')  é igual a  0.00193\n",
      "Probabilidade de  ('Bom', 'Bom', 'Bom', 'Bom', 'Bom', 'Ruim', 'Bom')  é igual a  0.03675\n",
      "Probabilidade de  ('Bom', 'Bom', 'Bom', 'Bom', 'Bom', 'Bom', 'Ruim')  é igual a  0.03675\n",
      "Probabilidade de  ('Bom', 'Bom', 'Bom', 'Bom', 'Bom', 'Bom', 'Bom')  é igual a  0.69834\n"
     ]
    }
   ],
   "source": [
    "prob_linhas = []\n",
    "\n",
    "for res in espaco_amostral:\n",
    "    p = 1.0\n",
    "    for e in res:\n",
    "        p*=prob[e]\n",
    "    prob_linhas.append(p)\n",
    "    print(\"Probabilidade de \",res,\" é igual a \",\"%3.5f\"%p)"
   ]
  },
  {
   "cell_type": "markdown",
   "metadata": {},
   "source": [
    "## 2.C)"
   ]
  },
  {
   "cell_type": "code",
   "execution_count": 13,
   "metadata": {
    "collapsed": false
   },
   "outputs": [
    {
     "name": "stdout",
     "output_type": "stream",
     "text": [
      "Distribuição de probabilidades da variável aleatória Y - Resistores Ruim\n",
      "\n",
      "Resistores ruim:  0  Probabilidade 0.69834 \n",
      "Resistores ruim:  1  Probabilidade 0.25728 \n",
      "Resistores ruim:  2  Probabilidade 0.04062 \n",
      "Resistores ruim:  3  Probabilidade 0.00356 \n",
      "Resistores ruim:  4  Probabilidade 0.00019 \n",
      "Resistores ruim:  5  Probabilidade 0.00001 \n",
      "Resistores ruim:  6  Probabilidade 0.00000 \n",
      "Resistores ruim:  7  Probabilidade 0.00000 \n"
     ]
    }
   ],
   "source": [
    "valores_Y = {}\n",
    "for i in range(len(espaco_amostral)):\n",
    "    y = espaco_amostral[i].count(\"Ruim\")\n",
    "    # Checar antes se a chave está no dicionário\n",
    "    if y in valores_Y:\n",
    "        valores_Y[y] += prob_linhas[i]\n",
    "    else:\n",
    "        valores_Y[y] = prob_linhas[i]\n",
    "\n",
    "        \n",
    "        \n",
    "print(\"Distribuição de probabilidades da variável aleatória Y - Resistores Ruim\")\n",
    "print('')\n",
    "for y in valores_Y:\n",
    "    print(\"Resistores ruim: \", y, \" Probabilidade\", \"%6.5f \"%valores_Y[y])"
   ]
  },
  {
   "cell_type": "code",
   "execution_count": 14,
   "metadata": {
    "collapsed": false
   },
   "outputs": [
    {
     "name": "stdout",
     "output_type": "stream",
     "text": [
      "E(Y)= 0.35\n",
      "Var(Y) 0.3324999999999999\n",
      "σ(Y)= 0.57663\n"
     ]
    }
   ],
   "source": [
    "E=0\n",
    "for y in valores_Y:\n",
    "    E += y*valores_Y[y]\n",
    "    \n",
    "print('E(Y)=',E)\n",
    "\n",
    "var=0\n",
    "for y in valores_Y:\n",
    "    var += ((y-E)**2)*valores_Y[y]\n",
    "\n",
    "print('Var(Y)',var)\n",
    "dp = math.sqrt(var)\n",
    "print('σ(Y)=',round(dp,5))"
   ]
  },
  {
   "cell_type": "markdown",
   "metadata": {},
   "source": [
    "## 2.D)"
   ]
  },
  {
   "cell_type": "code",
   "execution_count": 15,
   "metadata": {
    "collapsed": false
   },
   "outputs": [
    {
     "name": "stdout",
     "output_type": "stream",
     "text": [
      "Distribuição Binomial P(Y=0) = 0.6983372960937497\n",
      "Distribuição Binomial P(Y=1) = 0.25728216171874996\n",
      "Distribuição Binomial P(Y=2) = 0.04062349921875\n",
      "Distribuição Binomial P(Y=3) = 0.0035634648437500006\n",
      "Distribuição Binomial P(Y=4) = 0.00018755078125\n",
      "Distribuição Binomial P(Y=5) = 5.922656250000001e-06\n",
      "Distribuição Binomial P(Y=6) = 1.0390625000000004e-07\n",
      "Distribuição Binomial P(Y=7) = 7.812500000000003e-10\n",
      "Média: 0.35000000000000003\n",
      "Variancia: 0.3325\n",
      "Desvio padrão: 0.57663\n"
     ]
    }
   ],
   "source": [
    "p = 0.05 #prob de sucesso\n",
    "esp , var2 = stats.binom.stats(n, p, moments='mv')\n",
    "dp2 = math.sqrt(var2)\n",
    "binomial(n,y)\n",
    "print('Média:',esp)\n",
    "print('Variancia:',var2)\n",
    "print('Desvio padrão:',round(dp2,5))"
   ]
  },
  {
   "cell_type": "markdown",
   "metadata": {},
   "source": [
    "## Conclusão\n",
    "Quando o numero de tentativas é baixo é possivel fazer os cálculos pelo arranjo, mas quando o numero de tentativas aumenta, usar o arranjo fica inviavel e precisamos usar o modelo binomial."
   ]
  },
  {
   "cell_type": "markdown",
   "metadata": {},
   "source": [
    "___\n",
    "## <font color='blue'>Exercício 2</font> \n",
    "\n",
    "### <font color='red'>**Publicar no github até dia 21/03 INDIVIDUAL **</font>\n",
    "\n",
    "Esse exercício irá explorar uma modelagem de dados reais.\n",
    "\n",
    "> **Confira alguns itens obrigatórios verificados durante a vistoria do Detran**\n",
    "\n",
    "> *Todos os veículos, novos ou velhos, precisam passar por uma vistoria todos os anos. (...) O motorista precisa estar atento a alguns itens obrigatórios. Tudo deve funcionar perfeitamente, apresentar bom estado de conservação e estar dentro do prazo de validade.*\n",
    "\n",
    "> <sup>Fonte: http://extra.globo.com/noticias/brasil/transito-seguro/confira-alguns-itens-obrigatorios-verificados-durante-vistoria-do-detran-10190355.html</sup>\n",
    "\n",
    "Essa matéria lista 14 itens que são inspecionados pelo Detran, dentre os quais têm-se: extintor de incêndio deve estar dentro do prazo de validade; pneus devem estar em bom estado de conservação; buzina deve funcionar perfeitamente; e cintos de segurança para todos os ocupantes do carro. Se, no final das contas, todos os 14 itens estiverem funcionando perfeitamente, o motorista irá feliz para casa assegurado de que seu carro está sem problemas com a vistoria.\n",
    "\n",
    "1. A base de dados `Carros.txt` apresenta, para cada um dos três mil carros de passeio vistoriados, duas informações: tipo de carro (1: Popular e 2: Não Popular) e quantidade de itens vistoriados em não conformidade (que pode variar de 0 a 14). \n",
    "    1. Considerando todos os carros, analise a quantidade de itens vistoriados em não conformidade. Pela tabela de frequências relativas, calcule a média e variância dessa quantidade. Interprete-os.\n",
    "    2. Assuma que a variável *Quantidade de itens em não conformidade* possa ser ajustada pelo modelo Binomial com parâmetros $n=14$ e $p=0,10$. Interprete esses parâmetros para o problema em questão e, ainda, discuta se as propriedades da distribuição Binomial estão satisfeitas para o problema aqui me questão.\n",
    "    \n",
    "    **Independente da sua resposta anterior, considere que a distribuição binomial seja adequada para modelar a variável de interesse nos próximos itens!**\n",
    "    3. Utilizando o método `stats.binom.pmf`, obtenha a probabilidade de cada uma das quantidades de itens em não conformidade quando $n=14$ e $p=0,10$. Calcule o valor esperado e a variância da quantidade de itens em não conformidade utilizando o método `stats.binom.stats` e via resultado da Tabela 4.4 do Magalhães e Lima (pág. 125).\n",
    "    4. Compare as probabilidades teóricas com as frequências relativas observadas nos dados. Para isso, tem-se, por exemplo, as duas opções abaixo para comparar se os resultados empíricos se encaixam com o modelo teórico proposto. \n",
    "        - A primeira opção gráfica contrasta a frequência relativa e a probabilidade teórica para uma determinada quantidade de itens em não conformidade! Vide Figura 3.4 do livro Magalhães e Lima (pág. 87). Ou seja, essa opção contrasta a frequência relativa em um valor de $y$ e a probabilidade pontual $P(Y=y)$.\n",
    "        - A segunda contrasta a frequência relativa acumulada com a probabilidade acumulada até determinada quantidade de itens em não conformidade. Ou seja, compara a frequência relativa acumulada até $y$ com a probabilidade acumulada $P(Y\\leq y)$.\n",
    "    Construa os gráficos de acordo com as duas opções e refine sua conclusão quanto ao uso do modelo teórico para ajustar a variável em questão!\n",
    "    5. Na prática, qual a necessidade de um modelo probabilístico já que se têm os dados observados?\n",
    "    6. Considerando apenas os carros populares, o modelo Binomial com parâmetros $n=14$ e $p=0,10$ é adequado para ajustar a variável Quantidade de itens em não conformidade? Se sim, justifique; caso não, sugira novos valores para os parâmetros da distribuição ajuste aos dados."
   ]
  },
  {
   "cell_type": "code",
   "execution_count": 16,
   "metadata": {
    "collapsed": false
   },
   "outputs": [
    {
     "name": "stdout",
     "output_type": "stream",
     "text": [
      "Esperamos trabalhar no diretório\n",
      "C:\\Users\\gabri\\Documents\\INSPER\\Ciencia dos Dados\\DP\\CD1S17\\aula10\n"
     ]
    }
   ],
   "source": [
    "import os\n",
    "print('Esperamos trabalhar no diretório')\n",
    "print(os.getcwd())\n",
    "carros = pd.read_table('Carros.txt', sep=' ')"
   ]
  },
  {
   "cell_type": "markdown",
   "metadata": {},
   "source": [
    "## 2.A)"
   ]
  },
  {
   "cell_type": "code",
   "execution_count": 17,
   "metadata": {
    "collapsed": false
   },
   "outputs": [
    {
     "name": "stdout",
     "output_type": "stream",
     "text": [
      "Frequencia Relativa\n",
      "0    28.80\n",
      "1    31.67\n",
      "2    22.13\n",
      "3    10.83\n",
      "4     4.63\n",
      "5     1.57\n",
      "6     0.27\n",
      "7     0.07\n",
      "8     0.03\n",
      "Name: Quantidade, dtype: float64\n",
      "\n",
      "Média\n",
      "1.3713333333333333\n",
      "\n",
      "Variáncia\n",
      "1.5799715460709343\n",
      "\n",
      "Desvio Padrão\n",
      "1.2569691905814295\n",
      "\n",
      "Describe\n"
     ]
    },
    {
     "data": {
      "text/plain": [
       "count    3000.000000\n",
       "mean        1.371333\n",
       "std         1.256969\n",
       "min         0.000000\n",
       "25%         0.000000\n",
       "50%         1.000000\n",
       "75%         2.000000\n",
       "max         8.000000\n",
       "Name: Quantidade, dtype: float64"
      ]
     },
     "execution_count": 17,
     "metadata": {},
     "output_type": "execute_result"
    }
   ],
   "source": [
    "frq_relativa = carros.Quantidade.value_counts(True).reindex([0,1,2,3,4,5,6,7,8])*100\n",
    "frq_relativa = round(frq_relativa,2)\n",
    "print('Frequencia Relativa')\n",
    "print(frq_relativa)\n",
    "print()\n",
    "print(\"Média\")\n",
    "print(carros.Quantidade.mean())\n",
    "print()\n",
    "print(\"Variáncia\")\n",
    "print(carros.Quantidade.var())\n",
    "print()\n",
    "print(\"Desvio Padrão\")\n",
    "print(math.sqrt(carros.Quantidade.var()))\n",
    "print()\n",
    "print(\"Describe\")\n",
    "carros.Quantidade.describe()"
   ]
  },
  {
   "cell_type": "markdown",
   "metadata": {},
   "source": [
    "## 2.B)"
   ]
  },
  {
   "cell_type": "markdown",
   "metadata": {},
   "source": [
    "Y: Números de \"sucessos\" em n tentativas.\n",
    "\n",
    "\n",
    "p: Prob. do \"sucesso\"."
   ]
  },
  {
   "cell_type": "markdown",
   "metadata": {},
   "source": [
    "## 2.C)"
   ]
  },
  {
   "cell_type": "code",
   "execution_count": 18,
   "metadata": {
    "collapsed": false
   },
   "outputs": [
    {
     "name": "stdout",
     "output_type": "stream",
     "text": [
      "Modelo Binomial\n",
      "P(X=0)= 22.877\n",
      "P(X=1)= 35.586\n",
      "P(X=2)= 25.701\n",
      "P(X=3)= 11.423\n",
      "P(X=4)= 3.49\n",
      "P(X=5)= 0.776\n",
      "P(X=6)= 0.129\n",
      "P(X=7)= 0.016\n",
      "P(X=8)= 0.002\n",
      "\n",
      "E(X)= 1.4000000000000001\n",
      "Var(X)= 1.2600000000000002\n"
     ]
    }
   ],
   "source": [
    "n=14\n",
    "p=0.1\n",
    "prob=[]\n",
    "print(\"Modelo Binomial\")\n",
    "for y in range(0,9):\n",
    "    prob.append(round(stats.binom.pmf(y,n,p)*100,3))\n",
    "    print(\"P(X={0})= {1}\".format(y,round(stats.binom.pmf(y,n,p)*100,3)))\n",
    "esp, var = stats.binom.stats(n, p, moments='mv')\n",
    "print()\n",
    "print(\"E(X)=\",esp)\n",
    "print(\"Var(X)=\",var)"
   ]
  },
  {
   "cell_type": "markdown",
   "metadata": {},
   "source": [
    "## 2.D)"
   ]
  },
  {
   "cell_type": "code",
   "execution_count": 35,
   "metadata": {
    "collapsed": false,
    "scrolled": true
   },
   "outputs": [
    {
     "data": {
      "image/png": "[encoded data removed]",
      "text/plain": [
       "<matplotlib.figure.Figure at 0x17e491e21d0>"
      ]
     },
     "metadata": {},
     "output_type": "display_data"
    }
   ],
   "source": [
    "\n",
    "\n",
    "plt.plot(prob,'o') \n",
    "plt.plot(frq_relativa, 'o') #frequencia relativa\n",
    "plt.ylim(-1,40)\n",
    "plt.grid()"
   ]
  },
  {
   "cell_type": "code",
   "execution_count": 20,
   "metadata": {
    "collapsed": false
   },
   "outputs": [
    {
     "data": {
      "image/png": "[encoded data removed]",
      "text/plain": [
       "<matplotlib.figure.Figure at 0x17e48d8a6a0>"
      ]
     },
     "metadata": {},
     "output_type": "display_data"
    }
   ],
   "source": [
    "prob_cum=[]\n",
    "for y in range(0,9):\n",
    "    prob_cum.append(round(stats.binom.cdf(y,n,p)*100,3))\n",
    "    \n",
    "plt.plot(prob_cum,'o')\n",
    "plt.plot(frq_relativa.cumsum(),'o')\n",
    "plt.grid()"
   ]
  },
  {
   "cell_type": "markdown",
   "metadata": {},
   "source": [
    "## 2.E)"
   ]
  },
  {
   "cell_type": "markdown",
   "metadata": {},
   "source": [
    "Na pratica a nescessidade de um modelo probabilístico quando já se tem dados observados é prever o modelo, pois os dados relatam como o modelo se comporta com dados de três mil dados."
   ]
  },
  {
   "cell_type": "markdown",
   "metadata": {},
   "source": [
    "## 2.F)"
   ]
  },
  {
   "cell_type": "code",
   "execution_count": 33,
   "metadata": {
    "collapsed": false
   },
   "outputs": [
    {
     "name": "stdout",
     "output_type": "stream",
     "text": [
      "\n",
      "Média: 1.83\n",
      "Variancia: 1.67\n",
      "\n",
      "Modelo Binomial\n",
      "P(X=0)= 22.877\n",
      "P(X=1)= 35.586\n",
      "P(X=2)= 25.701\n",
      "P(X=3)= 11.423\n",
      "P(X=4)= 3.49\n",
      "P(X=5)= 0.776\n",
      "P(X=6)= 0.129\n",
      "P(X=7)= 0.016\n",
      "P(X=8)= 0.002\n",
      "\n",
      "E(X)= 1.4000000000000001\n",
      "Var(X)= 1.2600000000000002\n",
      "\n",
      "E(X)= 1.82\n",
      "Var(X)= 1.5834000000000001\n"
     ]
    }
   ],
   "source": [
    "carros_popular = carros[(carros.Tipo == 1)]\n",
    "frq_relativa_pop = carros_popular.Quantidade.value_counts(True)*100\n",
    "print()\n",
    "print(\"Média:\",round(carros_popular.Quantidade.mean(),2))\n",
    "print(\"Variancia:\",round(carros_popular.Quantidade.var(),2))\n",
    "prob = []\n",
    "print()\n",
    "print(\"Modelo Binomial\")\n",
    "\n",
    "for y in range(0,9):\n",
    "    prob.append(round(stats.binom.pmf(y,n,p)*100,2))\n",
    "    print(\"P(X={0})= {1}\".format(y,round(stats.binom.pmf(y,n,p)*100,3)))\n",
    "esp, var = stats.binom.stats(n, p, moments='mv')\n",
    "print()\n",
    "print(\"E(X)=\",esp)\n",
    "print(\"Var(X)=\",var)\n",
    "\n",
    "'''Ajuste'''\n",
    "esp, var = stats.binom.stats(14, 0.13, moments='mv')\n",
    "print()\n",
    "print(\"E(X)=\",esp)\n",
    "print(\"Var(X)=\",var)\n",
    "\n"
   ]
  },
  {
   "cell_type": "code",
   "execution_count": 34,
   "metadata": {
    "collapsed": false
   },
   "outputs": [
    {
     "data": {
      "text/plain": [
       "'Justificar atraves da média'"
      ]
     },
     "execution_count": 34,
     "metadata": {},
     "output_type": "execute_result"
    }
   ],
   "source": [
    "'''Justificar atraves da média'''"
   ]
  },
  {
   "cell_type": "markdown",
   "metadata": {
    "collapsed": true
   },
   "source": [
    "___\n",
    "## <font color='blue'>Exercício 3</font>\n",
    "\n",
    "### <font color='red'>**Publicar no github até dia 21/03 INDIVIDUAL **</font>\n",
    "\n",
    "Esse exercício irá explorar modelos de distribuição de Poisson.\n",
    "\n",
    "Uma fábrica produz determinado veículo. O gerente de vendas fechou um negócio que implica na produção de pelo menos 110 unidades nos próximos dois meses. Para isso, será construída uma nova linha de montagem com capacidade para produzir em média 50 veículos por mês (considere meses de 30 dias). A linha funcionará ininterruptamente. Além disso, apenas um veículo é produzido por vez. Considere que um modelo Poisson seja adequado para a quantidade de veículos produzidos.\n",
    "   1. Qual a probabilidade  da produção ser igual a 100 veículos nos próximos dois meses?\n",
    "   2. Qual a probabilidade  da produção ser de pelo menos 100 veículos nos próximos dois meses?\n",
    "   3. Qual a probabilidade da produção ser entre 100 e 110 veículos nos próximos dois meses?\n",
    "   4. Se forem produzidos de pelo menos 100 veículos no próximo mês, qual a probabilidade do gerente cumprir a meta negociada?\n",
    "   5. Caso o prazo seja cumprido, o lucro será da ordem de $250$ mil, caso não seja, o lucro cai para $200$ mil. Qual é o lucro esperado e seu desvio-padrão?\n",
    "\n",
    "**Observação:** Explore os comandos de `stats.poisson`. <sup>[http://docs.scipy.org/doc/scipy/reference/generated/scipy.stats.poisson.html]\n"
   ]
  },
  {
   "cell_type": "code",
   "execution_count": null,
   "metadata": {
    "collapsed": true
   },
   "outputs": [],
   "source": []
  }
 ],
 "metadata": {
  "anaconda-cloud": {},
  "kernelspec": {
   "display_name": "Python [conda root]",
   "language": "python",
   "name": "conda-root-py"
  },
  "language_info": {
   "codemirror_mode": {
    "name": "ipython",
    "version": 3
   },
   "file_extension": ".py",
   "mimetype": "text/x-python",
   "name": "python",
   "nbconvert_exporter": "python",
   "pygments_lexer": "ipython3",
   "version": "3.5.2"
  }
 },
 "nbformat": 4,
 "nbformat_minor": 0
}
