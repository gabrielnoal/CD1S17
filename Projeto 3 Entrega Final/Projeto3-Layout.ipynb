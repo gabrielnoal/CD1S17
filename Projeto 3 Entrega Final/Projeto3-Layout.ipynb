{
 "cells": [
  {
   "cell_type": "markdown",
   "metadata": {},
   "source": [
    "___\n",
    "# PROJETO 3"
   ]
  },
  {
   "cell_type": "markdown",
   "metadata": {},
   "source": [
    "## GRUPO:\n",
    "### Gabriel Noal\n",
    "### Warlen Rodrigues\n",
    "___"
   ]
  },
  {
   "cell_type": "code",
   "execution_count": 1,
   "metadata": {
    "collapsed": false
   },
   "outputs": [
    {
     "name": "stdout",
     "output_type": "stream",
     "text": [
      "Esperamos trabalhar no diretório\n",
      "C:\\Users\\dell\\Documents\\GitHub\\CD1S17\\Projeto 3\n"
     ]
    }
   ],
   "source": [
    "%matplotlib inline\n",
    "import pandas as pd\n",
    "import matplotlib.pyplot as plt\n",
    "import numpy as np\n",
    "import os\n",
    "from scipy import stats\n",
    "\n",
    "print('Esperamos trabalhar no diretório')\n",
    "print(os.getcwd())"
   ]
  },
  {
   "cell_type": "markdown",
   "metadata": {},
   "source": [
    "1. a) Definindo a distribuição Lognormal.\n",
    "   \n",
    "   b) Sorteando os valores..."
   ]
  },
  {
   "cell_type": "code",
   "execution_count": 2,
   "metadata": {
    "collapsed": false
   },
   "outputs": [],
   "source": [
    "dados = sorted(stats.lognorm.rvs(0.25,scale=20,loc=10,size=1000000))\n",
    "\n",
    "df = pd.DataFrame()\n",
    "df[\"dados\"] =dados"
   ]
  },
  {
   "cell_type": "markdown",
   "metadata": {},
   "source": [
    "___\n",
    "## Estudo da Distribuição da Média Amostral  $\\bar{X}$  via SIMULAÇÃO\n",
    "\n",
    "1. c) Calculando média, variância e Desvio-Padrão"
   ]
  },
  {
   "cell_type": "code",
   "execution_count": 3,
   "metadata": {
    "collapsed": false
   },
   "outputs": [
    {
     "name": "stdout",
     "output_type": "stream",
     "text": [
      "Média: 30.64\n",
      "Variancia: 27.53\n",
      "Desvio Padrão: 5.25\n"
     ]
    }
   ],
   "source": [
    "print(\"Média:\",round(df.dados.mean(),2))\n",
    "print(\"Variancia:\",round(df.dados.var(),2))\n",
    "print(\"Desvio Padrão:\",round(df.dados.std(),2))"
   ]
  },
  {
   "cell_type": "code",
   "execution_count": 4,
   "metadata": {
    "collapsed": false,
    "scrolled": true
   },
   "outputs": [
    {
     "data": {
      "image/png": "[encoded data removed]",
      "text/plain": [
       "<matplotlib.figure.Figure at 0x1bda95a95f8>"
      ]
     },
     "metadata": {},
     "output_type": "display_data"
    }
   ],
   "source": [
    "fig = plt.figure(figsize=(10,3))\n",
    "\n",
    "plt.subplot(131)\n",
    "\n",
    "plt.hist(df.dados,bins=50,normed=1)\n",
    "plt.title(\"Histograma da amostra (Log-norm)\")\n",
    "\n",
    "\n",
    "plt.tight_layout()\n",
    "plt.show()"
   ]
  },
  {
   "cell_type": "markdown",
   "metadata": {},
   "source": [
    "Criando função que gera as distribuições das médias amostrais."
   ]
  },
  {
   "cell_type": "code",
   "execution_count": 5,
   "metadata": {
    "collapsed": false
   },
   "outputs": [],
   "source": [
    "def medias_amostrais(n):\n",
    "    lista=[]\n",
    "    for i in range (n):\n",
    "        lista.append(np.random.choice(df.dados))\n",
    "    media = sum(lista)/n\n",
    "    #print(\"Quando n={0}, a média é:{1}\".format(n,media))\n",
    "    return media"
   ]
  },
  {
   "cell_type": "markdown",
   "metadata": {
    "collapsed": false
   },
   "source": [
    "Considerando n=2"
   ]
  },
  {
   "cell_type": "code",
   "execution_count": null,
   "metadata": {
    "collapsed": true
   },
   "outputs": [],
   "source": [
    "medias_2 = []\n",
    "for i in range (10000):\n",
    "    medias_2.append(medias_amostrais(2))\n"
   ]
  },
  {
   "cell_type": "markdown",
   "metadata": {},
   "source": [
    "Considerando n=4"
   ]
  },
  {
   "cell_type": "code",
   "execution_count": null,
   "metadata": {
    "collapsed": true
   },
   "outputs": [],
   "source": [
    "medias_4 = []\n",
    "for i in range (10000):\n",
    "    medias_4.append(medias_amostrais(4))\n"
   ]
  },
  {
   "cell_type": "markdown",
   "metadata": {},
   "source": [
    "Considerando n=20"
   ]
  },
  {
   "cell_type": "code",
   "execution_count": null,
   "metadata": {
    "collapsed": true
   },
   "outputs": [],
   "source": [
    "medias_20 = []\n",
    "for i in range (10000):\n",
    "    medias_20.append(medias_amostrais(20))"
   ]
  },
  {
   "cell_type": "markdown",
   "metadata": {},
   "source": [
    "Considerando n=50"
   ]
  },
  {
   "cell_type": "code",
   "execution_count": null,
   "metadata": {
    "collapsed": true
   },
   "outputs": [],
   "source": [
    "medias_50 = []\n",
    "for i in range (10000):\n",
    "    medias_50.append(medias_amostrais(50))\n"
   ]
  },
  {
   "cell_type": "markdown",
   "metadata": {},
   "source": [
    "Considerando n=150"
   ]
  },
  {
   "cell_type": "code",
   "execution_count": 18,
   "metadata": {
    "collapsed": false
   },
   "outputs": [],
   "source": [
    "medias_150 = []\n",
    "for i in range (10000):\n",
    "    medias_150.append(medias_amostrais(150))\n"
   ]
  },
  {
   "cell_type": "code",
   "execution_count": 38,
   "metadata": {
    "collapsed": false
   },
   "outputs": [
    {
     "name": "stdout",
     "output_type": "stream",
     "text": [
      "30.697129095620255\n",
      "13.523138602497584\n"
     ]
    },
    {
     "data": {
      "image/png": "[encoded data removed]",
      "text/plain": [
       "<matplotlib.figure.Figure at 0x1bdaac86f98>"
      ]
     },
     "metadata": {},
     "output_type": "display_data"
    }
   ],
   "source": [
    "media = pd.DataFrame()\n",
    "media[\"n2\"] = medias_2\n",
    "media[\"n4\"] = medias_4\n",
    "media[\"n20\"] = medias_20\n",
    "media[\"n50\"] = medias_50\n",
    "media[\"n150\"] = medias_150\n",
    "\n",
    "plt.hist(media.n2,bins=25,normed=1)\n",
    "plt.title(\"Histograma para n=2\")\n",
    "plt.xlabel(\"Possíveis valores para a média amostral\")\n",
    "plt.ylabel(\"Densidade\")\n",
    "\n",
    "\n",
    "print(media.n2.mean())\n",
    "print(media.n2.var())\n"
   ]
  },
  {
   "cell_type": "code",
   "execution_count": 37,
   "metadata": {
    "collapsed": false
   },
   "outputs": [
    {
     "name": "stdout",
     "output_type": "stream",
     "text": [
      "30.608749962300156\n",
      "6.87407925838846\n"
     ]
    },
    {
     "data": {
      "image/png": "[encoded data removed]",
      "text/plain": [
       "<matplotlib.figure.Figure at 0x1bdae6c2a58>"
      ]
     },
     "metadata": {},
     "output_type": "display_data"
    }
   ],
   "source": [
    "plt.hist(media.n4,bins=25,normed=1)\n",
    "plt.title(\"Histograma para n=4\")\n",
    "plt.xlabel(\"Possíveis valores para a média amostral\")\n",
    "plt.ylabel(\"Densidade\")\n",
    "\n",
    "print(media.n4.mean())\n",
    "print(media.n4.var())"
   ]
  },
  {
   "cell_type": "code",
   "execution_count": 36,
   "metadata": {
    "collapsed": false
   },
   "outputs": [
    {
     "name": "stdout",
     "output_type": "stream",
     "text": [
      "30.640726139934547\n",
      "1.3963109597661258\n"
     ]
    },
    {
     "data": {
      "image/png": "[encoded data removed]",
      "text/plain": [
       "<matplotlib.figure.Figure at 0x1bdae635be0>"
      ]
     },
     "metadata": {},
     "output_type": "display_data"
    }
   ],
   "source": [
    "plt.hist(media.n20,bins=25,normed=1)\n",
    "plt.title(\"Histograma para n=20\")\n",
    "plt.xlabel(\"Possíveis valores para a média amostral\")\n",
    "plt.ylabel(\"Densidade\")\n",
    "\n",
    "print(media.n20.mean())\n",
    "print(media.n20.var())"
   ]
  },
  {
   "cell_type": "code",
   "execution_count": 33,
   "metadata": {
    "collapsed": false
   },
   "outputs": [
    {
     "name": "stdout",
     "output_type": "stream",
     "text": [
      "30.62779469643135\n",
      "0.5402433088077001\n"
     ]
    },
    {
     "data": {
      "image/png": "[encoded data removed]",
      "text/plain": [
       "<matplotlib.figure.Figure at 0x1bdae69fa58>"
      ]
     },
     "metadata": {},
     "output_type": "display_data"
    }
   ],
   "source": [
    "plt.hist(media.n50,bins=25,normed=1)\n",
    "plt.title(\"Histograma para n=50\")\n",
    "plt.xlabel(\"Possíveis valores para a média amostral\")\n",
    "plt.ylabel(\"Densidade\")\n",
    "print(media.n50.mean())\n",
    "print(media.n50.var())"
   ]
  },
  {
   "cell_type": "code",
   "execution_count": 35,
   "metadata": {
    "collapsed": false
   },
   "outputs": [
    {
     "name": "stdout",
     "output_type": "stream",
     "text": [
      "30.63453066803317\n",
      "0.18241115154200502\n"
     ]
    },
    {
     "data": {
      "image/png": "[encoded data removed]",
      "text/plain": [
       "<matplotlib.figure.Figure at 0x1bdae144748>"
      ]
     },
     "metadata": {},
     "output_type": "display_data"
    }
   ],
   "source": [
    "plt.hist(media.n150,bins=25,normed=1)\n",
    "plt.title(\"Histograma para n=150\")\n",
    "plt.xlabel(\"Possíveis valores para a média amostral\")\n",
    "plt.ylabel(\"Densidade\")\n",
    "print(media.n150.mean())\n",
    "print(media.n150.var())"
   ]
  },
  {
   "cell_type": "markdown",
   "metadata": {},
   "source": [
    "O TLC nos mostra que a distribuição das médias amostrais se comporta de modo que, quanto maior for o \"n\", mais a distribuição das médias se parece com uma normal. Ou seja, quanto mais valores pegarmos dentro das médias populacionais, maior é a probabilidade de a nossa média amostral ser igual à média escolhida para ser aplicada ao modelo teórico escolhido. \n",
    "\n",
    "Por exemplo: no item 1. a) tinhamos uma média de 30.64. É possível perceber que as médias das distribuições obtidas para diferentes valores de n se aproxima bastante de 30.64 a medida que n vai recebendo valores mais altos."
   ]
  },
  {
   "cell_type": "markdown",
   "metadata": {
    "collapsed": true
   },
   "source": [
    "___\n",
    "## Estudo da Distribuição de  $\\frac{\\bar{X}-\\mu}{\\sigma\\hspace{1mm}/\\sqrt{n}}$  e de $\\frac{\\bar{X}-\\mu}{S\\hspace{1mm}/\\sqrt{n}}$ via SIMULAÇÃO"
   ]
  },
  {
   "cell_type": "code",
   "execution_count": null,
   "metadata": {
    "collapsed": true
   },
   "outputs": [],
   "source": []
  },
  {
   "cell_type": "code",
   "execution_count": null,
   "metadata": {
    "collapsed": true
   },
   "outputs": [],
   "source": []
  },
  {
   "cell_type": "code",
   "execution_count": null,
   "metadata": {
    "collapsed": true
   },
   "outputs": [],
   "source": []
  },
  {
   "cell_type": "code",
   "execution_count": null,
   "metadata": {
    "collapsed": true
   },
   "outputs": [],
   "source": []
  }
 ],
 "metadata": {
  "anaconda-cloud": {},
  "kernelspec": {
   "display_name": "Python [conda root]",
   "language": "python",
   "name": "conda-root-py"
  },
  "language_info": {
   "codemirror_mode": {
    "name": "ipython",
    "version": 3
   },
   "file_extension": ".py",
   "mimetype": "text/x-python",
   "name": "python",
   "nbconvert_exporter": "python",
   "pygments_lexer": "ipython3",
   "version": "3.5.2"
  }
 },
 "nbformat": 4,
 "nbformat_minor": 0
}
