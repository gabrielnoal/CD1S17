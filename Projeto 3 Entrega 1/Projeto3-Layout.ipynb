{
 "cells": [
  {
   "cell_type": "markdown",
   "metadata": {},
   "source": [
    "___\n",
    "# PROJETO 3"
   ]
  },
  {
   "cell_type": "markdown",
   "metadata": {},
   "source": [
    "## GRUPO:\n",
    "### Gabriel Noal\n",
    "### Warlen Rodrigues\n",
    "___"
   ]
  },
  {
   "cell_type": "code",
   "execution_count": 1,
   "metadata": {
    "collapsed": false
   },
   "outputs": [
    {
     "name": "stdout",
     "output_type": "stream",
     "text": [
      "Esperamos trabalhar no diretório\n",
      "C:\\Users\\gabri\\Documents\\INSPER\\Ciencia dos Dados\\DP\\CD1S17\\Projeto 3 Entrega 1\n"
     ]
    }
   ],
   "source": [
    "%matplotlib inline\n",
    "import pandas as pd\n",
    "import matplotlib.pyplot as plt\n",
    "import numpy as np\n",
    "import os\n",
    "from scipy import stats\n",
    "\n",
    "print('Esperamos trabalhar no diretório')\n",
    "print(os.getcwd())"
   ]
  },
  {
   "cell_type": "code",
   "execution_count": 261,
   "metadata": {
    "collapsed": false
   },
   "outputs": [],
   "source": [
    "dados = sorted(stats.lognorm.rvs(0.25,scale=20,loc=10,size=1000000))\n",
    "\n",
    "df = pd.DataFrame()\n",
    "df[\"dados\"] =dados"
   ]
  },
  {
   "cell_type": "markdown",
   "metadata": {},
   "source": [
    "___\n",
    "## Estudo da Distribuição da Média Amostral  $\\bar{X}$  via SIMULAÇÃO"
   ]
  },
  {
   "cell_type": "code",
   "execution_count": 262,
   "metadata": {
    "collapsed": false
   },
   "outputs": [
    {
     "name": "stdout",
     "output_type": "stream",
     "text": [
      "Média: 30.63\n",
      "Variancia: 27.54\n",
      "Desvio Padrão: 5.25\n"
     ]
    }
   ],
   "source": [
    "print(\"Média:\",round(df.dados.mean(),2))\n",
    "print(\"Variancia:\",round(df.dados.var(),2))\n",
    "print(\"Desvio Padrão:\",round(df.dados.std(),2))"
   ]
  },
  {
   "cell_type": "code",
   "execution_count": 344,
   "metadata": {
    "collapsed": false
   },
   "outputs": [
    {
     "data": {
      "image/png": "[encoded data removed]",
      "text/plain": [
       "<matplotlib.figure.Figure at 0x1f9cf32efd0>"
      ]
     },
     "metadata": {},
     "output_type": "display_data"
    }
   ],
   "source": [
    "fig = plt.figure(figsize=(10,3))\n",
    "\n",
    "plt.subplot(131)\n",
    "\n",
    "plt.hist(df.dados,bins=50,normed=1)\n",
    "plt.title(\"Histograma da amostra (Log-norm)\")\n",
    "\n",
    "\n",
    "plt.tight_layout()\n",
    "plt.show()"
   ]
  },
  {
   "cell_type": "code",
   "execution_count": 339,
   "metadata": {
    "collapsed": false
   },
   "outputs": [],
   "source": [
    "def medias_amostrais(n):\n",
    "    lista=[]\n",
    "    for i in range (n):\n",
    "        lista.append(np.random.choice(df.dados))\n",
    "    media = sum(lista)/n\n",
    "    #print(\"Quando n={0}, a média é:{1}\".format(n,media))\n",
    "    return media"
   ]
  },
  {
   "cell_type": "code",
   "execution_count": 351,
   "metadata": {
    "collapsed": false
   },
   "outputs": [],
   "source": [
    "medias_2 = []\n",
    "for i in range (10000):\n",
    "    medias_2.append(medias_amostrais(2))\n",
    "\n",
    "medias_4 = []\n",
    "for i in range (10000):\n",
    "    medias_4.append(medias_amostrais(4))\n",
    "\n",
    "medias_20 = []\n",
    "for i in range (10000):\n",
    "    medias_20.append(medias_amostrais(20))\n",
    "\n",
    "medias_50 = []\n",
    "for i in range (10000):\n",
    "    medias_50.append(medias_amostrais(50))\n"
   ]
  },
  {
   "cell_type": "code",
   "execution_count": 355,
   "metadata": {
    "collapsed": false
   },
   "outputs": [
    {
     "name": "stdout",
     "output_type": "stream",
     "text": [
      "30.602101436662448\n",
      "13.626425707093285\n"
     ]
    },
    {
     "data": {
      "image/png": "[encoded data removed]",
      "text/plain": [
       "<matplotlib.figure.Figure at 0x1f9d3843048>"
      ]
     },
     "metadata": {},
     "output_type": "display_data"
    }
   ],
   "source": [
    "media = pd.DataFrame()\n",
    "media[\"n2\"] = medias_2\n",
    "media[\"n4\"] = medias_2\n",
    "media[\"n20\"] = medias_2\n",
    "media[\"n50\"] = medias_2\n",
    "\n",
    "plt.hist(media.n2,bins=25,normed=1)\n",
    "print(media.n2.mean())\n",
    "print(media.n2.var())\n"
   ]
  },
  {
   "cell_type": "markdown",
   "metadata": {
    "collapsed": true
   },
   "source": [
    "___\n",
    "## Estudo da Distribuição de  $\\frac{\\bar{X}-\\mu}{\\sigma\\hspace{1mm}/\\sqrt{n}}$  e de $\\frac{\\bar{X}-\\mu}{S\\hspace{1mm}/\\sqrt{n}}$ via SIMULAÇÃO"
   ]
  },
  {
   "cell_type": "code",
   "execution_count": null,
   "metadata": {
    "collapsed": true
   },
   "outputs": [],
   "source": []
  },
  {
   "cell_type": "code",
   "execution_count": null,
   "metadata": {
    "collapsed": true
   },
   "outputs": [],
   "source": []
  },
  {
   "cell_type": "code",
   "execution_count": null,
   "metadata": {
    "collapsed": true
   },
   "outputs": [],
   "source": []
  },
  {
   "cell_type": "code",
   "execution_count": null,
   "metadata": {
    "collapsed": true
   },
   "outputs": [],
   "source": []
  }
 ],
 "metadata": {
  "anaconda-cloud": {},
  "kernelspec": {
   "display_name": "Python [conda root]",
   "language": "python",
   "name": "conda-root-py"
  },
  "language_info": {
   "codemirror_mode": {
    "name": "ipython",
    "version": 3
   },
   "file_extension": ".py",
   "mimetype": "text/x-python",
   "name": "python",
   "nbconvert_exporter": "python",
   "pygments_lexer": "ipython3",
   "version": "3.5.2"
  }
 },
 "nbformat": 4,
 "nbformat_minor": 0
}
