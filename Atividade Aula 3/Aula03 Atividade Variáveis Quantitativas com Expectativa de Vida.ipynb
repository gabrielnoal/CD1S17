{
 "cells": [
  {
   "cell_type": "markdown",
   "metadata": {},
   "source": [
    "___\n",
    "# Atividade: Variáveis quantitativas com Expectativa de Vida\n",
    "___\n",
    "\n",
    "## Aula 03\n",
    "\n",
    "\n",
    "\n",
    "**Preparo prévio:**\n",
    "1.\tLeitura prévia necessária: Magalhães e Lima (7ª. Edição): pág. 9 a 17 – destacando para variáveis quantitativas; pág. 106 e 107 (Definição 4.1 e Exemplo 4.1).\n",
    "\n",
    "**Hoje:**\n",
    "1. Explorar a variável quantitativa Expectativa de Vida de diversos países do mundo nos anos: 1800, 1926 e 2000. \n",
    "2. Construir tabelas de frequências e interpretar resultados considerando variáveis quantitativas de forma univariada. \n",
    "4. Explicar vantagens e desvantagens sobre o uso da frequência ou da densidade na construção de um histograma e saber interpretá-lo. \n",
    "5. Desenvolver contas para obtenção da média e mediana nos três anos.\n",
    "6. Identificar o formato dos dados (simétrico, assimétrico positivo ou assimétrico negativo) ao observar um histograma e explicar o que cada formato pode impactar nas medidas de posição.\n",
    "\n",
    "\n",
    "**Próxima aula:**\n",
    "1. Leitura prévia necessária: Magalhães e Lima (7ª. Edição): pág. 18 a 25; pág. 106 e 107 (Definição 4.1 e Exemplo 4.1); pág. 116 e 117 (Definição 4.4 e Exemplo 4.8). \n",
    "2. Leitura prévia necessária: Montgomery et al (5ª. Edição): pág. 24 a 28.\n",
    "___\n"
   ]
  },
  {
   "cell_type": "markdown",
   "metadata": {},
   "source": [
    "## <font color='blue'>Expectativa de Vida - LIFE</font>\n",
    "\n",
    "O Banco Mundial (http://data.worldbank.org/brazilian-portuguese) disponibiliza bases de dados estatísticos para um pouco mais de 200 países do mundo desde o ano 1800, as quais consideram uma seleção abrangente de indicadores econômicos, sociais e ambientais. Um desses indicadores é a expectativa de vida (em anos) de cada país.\n",
    "\n",
    "O arquivo `Life.xlsx` contém a expectativa de vida de vários países para os anos 1800, 1926 e 2000.\n",
    "\n",
    "Considerando esses dados, faça as seguintes tarefas:\n",
    "\n",
    "1.\tConstrua uma tabela de frequências absolutas e relativas (em %) para cada um dos anos. \n",
    "\n",
    "2.\tConstrua um histograma para cada ano e interprete os gráficos. \n",
    "\n",
    "3. De acordo com o formato de um histograma, é possível classificar a distribuição dos dados como sendo: simétrica, assimétrica positiva (ou a direita) ou assimétrica negativa (ou a esquerda). Observando o formato de cada histograma construído no item anterior, classifique como sendo simétrico, assimétrico positivo ou assimétrico negativo. Argumente claramente o motivo de sua classificação. \n",
    "![AssimSim](AssimSim.jpg)\n",
    "\n",
    "4.\tPara cada ano, calcule a expectativa média de vida, a expectativa mediana de vida e a classe modal.\n",
    "\n",
    "5.\tPara cada um dos três anos, ordene os valores das medidas de posição (média, mediana e classe modal) obtidas no item anterior. A ordem dessas três medidas de posição é um mero acaso ou pode ser consequência do formato dos dados? Argumente claramente sua resposta.\n"
   ]
  },
  {
   "cell_type": "code",
   "execution_count": 1,
   "metadata": {
    "collapsed": false
   },
   "outputs": [],
   "source": [
    "%matplotlib inline\n",
    "import pandas as pd\n",
    "import matplotlib.pyplot as plt\n",
    "import os\n",
    "from numpy import zeros_like"
   ]
  },
  {
   "cell_type": "code",
   "execution_count": 2,
   "metadata": {
    "collapsed": false
   },
   "outputs": [
    {
     "name": "stdout",
     "output_type": "stream",
     "text": [
      "Esperamos trabalhar no diretório\n",
      "C:\\Users\\gabri\\Documents\\INSPER\\Ciencia dos Dados\\DP\\CD1S17\\Atividade Aula 3\n"
     ]
    }
   ],
   "source": [
    "print('Esperamos trabalhar no diretório')\n",
    "print(os.getcwd())"
   ]
  },
  {
   "cell_type": "code",
   "execution_count": 3,
   "metadata": {
    "collapsed": false
   },
   "outputs": [],
   "source": [
    "dados = pd.read_excel('Life.xlsx')"
   ]
  },
  {
   "cell_type": "code",
   "execution_count": 4,
   "metadata": {
    "collapsed": false
   },
   "outputs": [
    {
     "data": {
      "text/html": [
       "<div>\n",
       "<table border=\"1\" class=\"dataframe\">\n",
       "  <thead>\n",
       "    <tr style=\"text-align: right;\">\n",
       "      <th></th>\n",
       "      <th>Pais</th>\n",
       "      <th>L1800</th>\n",
       "      <th>L1926</th>\n",
       "      <th>L2000</th>\n",
       "    </tr>\n",
       "  </thead>\n",
       "  <tbody>\n",
       "    <tr>\n",
       "      <th>0</th>\n",
       "      <td>Afghanistan</td>\n",
       "      <td>28.2110</td>\n",
       "      <td>26.919920</td>\n",
       "      <td>51.0</td>\n",
       "    </tr>\n",
       "    <tr>\n",
       "      <th>1</th>\n",
       "      <td>Albania</td>\n",
       "      <td>35.4000</td>\n",
       "      <td>35.400000</td>\n",
       "      <td>74.2</td>\n",
       "    </tr>\n",
       "    <tr>\n",
       "      <th>2</th>\n",
       "      <td>Algeria</td>\n",
       "      <td>28.8224</td>\n",
       "      <td>30.968000</td>\n",
       "      <td>73.2</td>\n",
       "    </tr>\n",
       "    <tr>\n",
       "      <th>3</th>\n",
       "      <td>Angola</td>\n",
       "      <td>26.9800</td>\n",
       "      <td>26.980000</td>\n",
       "      <td>52.6</td>\n",
       "    </tr>\n",
       "    <tr>\n",
       "      <th>4</th>\n",
       "      <td>Antigua and Barbuda</td>\n",
       "      <td>33.5360</td>\n",
       "      <td>37.673931</td>\n",
       "      <td>73.9</td>\n",
       "    </tr>\n",
       "  </tbody>\n",
       "</table>\n",
       "</div>"
      ],
      "text/plain": [
       "                  Pais    L1800      L1926  L2000\n",
       "0          Afghanistan  28.2110  26.919920   51.0\n",
       "1              Albania  35.4000  35.400000   74.2\n",
       "2              Algeria  28.8224  30.968000   73.2\n",
       "3               Angola  26.9800  26.980000   52.6\n",
       "4  Antigua and Barbuda  33.5360  37.673931   73.9"
      ]
     },
     "execution_count": 4,
     "metadata": {},
     "output_type": "execute_result"
    }
   ],
   "source": [
    "dados.head()"
   ]
  },
  {
   "cell_type": "code",
   "execution_count": 5,
   "metadata": {
    "collapsed": false
   },
   "outputs": [],
   "source": [
    "dados1800 = dados.iloc[:,1]\n",
    "dados1926 = dados.iloc[:,2]\n",
    "dados2000 = dados.iloc[:,3]\n",
    "#dados1800\n",
    "#dados2000"
   ]
  },
  {
   "cell_type": "markdown",
   "metadata": {},
   "source": [
    "### Dados de 1800"
   ]
  },
  {
   "cell_type": "code",
   "execution_count": 6,
   "metadata": {
    "collapsed": false
   },
   "outputs": [
    {
     "data": {
      "text/plain": [
       "count    201.000000\n",
       "mean      31.485800\n",
       "std        3.763625\n",
       "min       23.387000\n",
       "25%       29.000000\n",
       "50%       31.800000\n",
       "75%       33.900000\n",
       "max       42.845599\n",
       "Name: L1800, dtype: float64"
      ]
     },
     "execution_count": 6,
     "metadata": {},
     "output_type": "execute_result"
    }
   ],
   "source": [
    "dados1800.describe()"
   ]
  },
  {
   "cell_type": "code",
   "execution_count": 7,
   "metadata": {
    "collapsed": false
   },
   "outputs": [
    {
     "name": "stdout",
     "output_type": "stream",
     "text": [
      "[22, 26, 30, 34, 38, 42, 46, 50, 54, 58, 62, 66, 70, 74, 78, 82]\n"
     ]
    }
   ],
   "source": [
    "faixa = list(range(22,83,4))\n",
    "print(faixa)"
   ]
  },
  {
   "cell_type": "code",
   "execution_count": 8,
   "metadata": {
    "collapsed": false
   },
   "outputs": [
    {
     "name": "stdout",
     "output_type": "stream",
     "text": [
      "Frequências relativas 1800:\n"
     ]
    },
    {
     "data": {
      "text/plain": [
       "[22, 26)    10.4\n",
       "[26, 30)    21.9\n",
       "[30, 34)    43.8\n",
       "[34, 38)    18.9\n",
       "[38, 42)     4.5\n",
       "[42, 46)     0.5\n",
       "[46, 50)     0.0\n",
       "[50, 54)     0.0\n",
       "[54, 58)     0.0\n",
       "[58, 62)     0.0\n",
       "[62, 66)     0.0\n",
       "[66, 70)     0.0\n",
       "[70, 74)     0.0\n",
       "[74, 78)     0.0\n",
       "[78, 82)     0.0\n",
       "Name: L1800, dtype: float64"
      ]
     },
     "execution_count": 8,
     "metadata": {},
     "output_type": "execute_result"
    }
   ],
   "source": [
    "Idades1800cat = pd.cut(dados1800, faixa, False)\n",
    "print('Frequências relativas 1800:')\n",
    "relativa1800 = (Idades1800cat.value_counts(True)*100).round(decimals=1).reindex(['[22, 26)','[26, 30)','[30, 34)','[34, 38)','[38, 42)','[42, 46)','[46, 50)','[50, 54)','[54, 58)','[58, 62)','[62, 66)','[66, 70)','[70, 74)','[74, 78)','[78, 82)',])\n",
    "relativa1800"
   ]
  },
  {
   "cell_type": "code",
   "execution_count": 9,
   "metadata": {
    "collapsed": false
   },
   "outputs": [
    {
     "name": "stdout",
     "output_type": "stream",
     "text": [
      "Frequências absoluta 1800:\n"
     ]
    },
    {
     "data": {
      "text/plain": [
       "[22, 26)    21\n",
       "[26, 30)    44\n",
       "[30, 34)    88\n",
       "[34, 38)    38\n",
       "[38, 42)     9\n",
       "[42, 46)     1\n",
       "[46, 50)     0\n",
       "[50, 54)     0\n",
       "[54, 58)     0\n",
       "[58, 62)     0\n",
       "[62, 66)     0\n",
       "[66, 70)     0\n",
       "[70, 74)     0\n",
       "[74, 78)     0\n",
       "[78, 82)     0\n",
       "Name: L1800, dtype: int64"
      ]
     },
     "execution_count": 9,
     "metadata": {},
     "output_type": "execute_result"
    }
   ],
   "source": [
    "print('Frequências absoluta 1800:')\n",
    "absoluta1800 = (Idades1800cat.value_counts()).reindex(['[22, 26)','[26, 30)','[30, 34)','[34, 38)','[38, 42)','[42, 46)','[46, 50)','[50, 54)','[54, 58)','[58, 62)','[62, 66)','[66, 70)','[70, 74)','[74, 78)','[78, 82)',])\n",
    "absoluta1800"
   ]
  },
  {
   "cell_type": "code",
   "execution_count": 10,
   "metadata": {
    "collapsed": false
   },
   "outputs": [
    {
     "data": {
      "text/html": [
       "<div>\n",
       "<table border=\"1\" class=\"dataframe\">\n",
       "  <thead>\n",
       "    <tr style=\"text-align: right;\">\n",
       "      <th></th>\n",
       "      <th>RELATIVA</th>\n",
       "      <th>ABSOLUTA</th>\n",
       "    </tr>\n",
       "  </thead>\n",
       "  <tbody>\n",
       "    <tr>\n",
       "      <th>[22, 26)</th>\n",
       "      <td>10.4</td>\n",
       "      <td>21.0</td>\n",
       "    </tr>\n",
       "    <tr>\n",
       "      <th>[26, 30)</th>\n",
       "      <td>21.9</td>\n",
       "      <td>44.0</td>\n",
       "    </tr>\n",
       "    <tr>\n",
       "      <th>[30, 34)</th>\n",
       "      <td>43.8</td>\n",
       "      <td>88.0</td>\n",
       "    </tr>\n",
       "    <tr>\n",
       "      <th>[34, 38)</th>\n",
       "      <td>18.9</td>\n",
       "      <td>38.0</td>\n",
       "    </tr>\n",
       "    <tr>\n",
       "      <th>[38, 42)</th>\n",
       "      <td>4.5</td>\n",
       "      <td>9.0</td>\n",
       "    </tr>\n",
       "    <tr>\n",
       "      <th>[42, 46)</th>\n",
       "      <td>0.5</td>\n",
       "      <td>1.0</td>\n",
       "    </tr>\n",
       "    <tr>\n",
       "      <th>[46, 50)</th>\n",
       "      <td>0.0</td>\n",
       "      <td>0.0</td>\n",
       "    </tr>\n",
       "    <tr>\n",
       "      <th>[50, 54)</th>\n",
       "      <td>0.0</td>\n",
       "      <td>0.0</td>\n",
       "    </tr>\n",
       "    <tr>\n",
       "      <th>[54, 58)</th>\n",
       "      <td>0.0</td>\n",
       "      <td>0.0</td>\n",
       "    </tr>\n",
       "    <tr>\n",
       "      <th>[58, 62)</th>\n",
       "      <td>0.0</td>\n",
       "      <td>0.0</td>\n",
       "    </tr>\n",
       "    <tr>\n",
       "      <th>[62, 66)</th>\n",
       "      <td>0.0</td>\n",
       "      <td>0.0</td>\n",
       "    </tr>\n",
       "    <tr>\n",
       "      <th>[66, 70)</th>\n",
       "      <td>0.0</td>\n",
       "      <td>0.0</td>\n",
       "    </tr>\n",
       "    <tr>\n",
       "      <th>[70, 74)</th>\n",
       "      <td>0.0</td>\n",
       "      <td>0.0</td>\n",
       "    </tr>\n",
       "    <tr>\n",
       "      <th>[74, 78)</th>\n",
       "      <td>0.0</td>\n",
       "      <td>0.0</td>\n",
       "    </tr>\n",
       "    <tr>\n",
       "      <th>[78, 82)</th>\n",
       "      <td>0.0</td>\n",
       "      <td>0.0</td>\n",
       "    </tr>\n",
       "  </tbody>\n",
       "</table>\n",
       "</div>"
      ],
      "text/plain": [
       "          RELATIVA  ABSOLUTA\n",
       "[22, 26)      10.4      21.0\n",
       "[26, 30)      21.9      44.0\n",
       "[30, 34)      43.8      88.0\n",
       "[34, 38)      18.9      38.0\n",
       "[38, 42)       4.5       9.0\n",
       "[42, 46)       0.5       1.0\n",
       "[46, 50)       0.0       0.0\n",
       "[50, 54)       0.0       0.0\n",
       "[54, 58)       0.0       0.0\n",
       "[58, 62)       0.0       0.0\n",
       "[62, 66)       0.0       0.0\n",
       "[66, 70)       0.0       0.0\n",
       "[70, 74)       0.0       0.0\n",
       "[74, 78)       0.0       0.0\n",
       "[78, 82)       0.0       0.0"
      ]
     },
     "execution_count": 10,
     "metadata": {},
     "output_type": "execute_result"
    }
   ],
   "source": [
    "relativa1800xabsoluta1800 = pd.DataFrame([relativa1800,absoluta1800]).T\n",
    "relativa1800xabsoluta1800.columns = ['RELATIVA', 'ABSOLUTA']\n",
    "relativa1800xabsoluta1800"
   ]
  },
  {
   "cell_type": "markdown",
   "metadata": {},
   "source": [
    "### DAdos 1926"
   ]
  },
  {
   "cell_type": "code",
   "execution_count": 12,
   "metadata": {
    "collapsed": false
   },
   "outputs": [
    {
     "data": {
      "text/plain": [
       "count    201.000000\n",
       "mean      36.353496\n",
       "std        9.590987\n",
       "min       23.387000\n",
       "25%       30.400000\n",
       "50%       32.800000\n",
       "75%       39.360000\n",
       "max       63.260000\n",
       "Name: L1926, dtype: float64"
      ]
     },
     "execution_count": 12,
     "metadata": {},
     "output_type": "execute_result"
    }
   ],
   "source": [
    "dados1926.describe()"
   ]
  },
  {
   "cell_type": "code",
   "execution_count": 13,
   "metadata": {
    "collapsed": false
   },
   "outputs": [
    {
     "name": "stdout",
     "output_type": "stream",
     "text": [
      "Frequências relativas 1926:\n"
     ]
    },
    {
     "data": {
      "text/plain": [
       "[22, 26)     6.5\n",
       "[26, 30)    14.9\n",
       "[30, 34)    35.8\n",
       "[34, 38)    11.9\n",
       "[38, 42)    10.9\n",
       "[42, 46)     3.5\n",
       "[46, 50)     3.5\n",
       "[50, 54)     4.5\n",
       "[54, 58)     4.0\n",
       "[58, 62)     2.5\n",
       "[62, 66)     2.0\n",
       "[66, 70)     0.0\n",
       "[70, 74)     0.0\n",
       "[74, 78)     0.0\n",
       "[78, 82)     0.0\n",
       "Name: L1926, dtype: float64"
      ]
     },
     "execution_count": 13,
     "metadata": {},
     "output_type": "execute_result"
    }
   ],
   "source": [
    "Idades1926cat = pd.cut(dados1926, faixa, False)\n",
    "print('Frequências relativas 1926:')\n",
    "relativa1926 = (Idades1926cat.value_counts(True)*100).round(decimals=1).reindex(['[22, 26)','[26, 30)','[30, 34)','[34, 38)','[38, 42)','[42, 46)','[46, 50)','[50, 54)','[54, 58)','[58, 62)','[62, 66)','[66, 70)','[70, 74)','[74, 78)','[78, 82)',])\n",
    "relativa1926"
   ]
  },
  {
   "cell_type": "code",
   "execution_count": 14,
   "metadata": {
    "collapsed": false
   },
   "outputs": [
    {
     "name": "stdout",
     "output_type": "stream",
     "text": [
      "Frequências Absoluta 1926:\n"
     ]
    },
    {
     "data": {
      "text/plain": [
       "[22, 26)    13\n",
       "[26, 30)    30\n",
       "[30, 34)    72\n",
       "[34, 38)    24\n",
       "[38, 42)    22\n",
       "[42, 46)     7\n",
       "[46, 50)     7\n",
       "[50, 54)     9\n",
       "[54, 58)     8\n",
       "[58, 62)     5\n",
       "[62, 66)     4\n",
       "[66, 70)     0\n",
       "[70, 74)     0\n",
       "[74, 78)     0\n",
       "[78, 82)     0\n",
       "Name: L1926, dtype: int64"
      ]
     },
     "execution_count": 14,
     "metadata": {},
     "output_type": "execute_result"
    }
   ],
   "source": [
    "print('Frequências Absoluta 1926:')\n",
    "absoluta1926 = (Idades1926cat.value_counts()).reindex(['[22, 26)','[26, 30)','[30, 34)','[34, 38)','[38, 42)','[42, 46)','[46, 50)','[50, 54)','[54, 58)','[58, 62)','[62, 66)','[66, 70)','[70, 74)','[74, 78)','[78, 82)',])\n",
    "absoluta1926"
   ]
  },
  {
   "cell_type": "code",
   "execution_count": 15,
   "metadata": {
    "collapsed": false
   },
   "outputs": [
    {
     "data": {
      "text/html": [
       "<div>\n",
       "<table border=\"1\" class=\"dataframe\">\n",
       "  <thead>\n",
       "    <tr style=\"text-align: right;\">\n",
       "      <th></th>\n",
       "      <th>RELATIVA</th>\n",
       "      <th>ABSOLUTA</th>\n",
       "    </tr>\n",
       "  </thead>\n",
       "  <tbody>\n",
       "    <tr>\n",
       "      <th>[22, 26)</th>\n",
       "      <td>6.5</td>\n",
       "      <td>13.0</td>\n",
       "    </tr>\n",
       "    <tr>\n",
       "      <th>[26, 30)</th>\n",
       "      <td>14.9</td>\n",
       "      <td>30.0</td>\n",
       "    </tr>\n",
       "    <tr>\n",
       "      <th>[30, 34)</th>\n",
       "      <td>35.8</td>\n",
       "      <td>72.0</td>\n",
       "    </tr>\n",
       "    <tr>\n",
       "      <th>[34, 38)</th>\n",
       "      <td>11.9</td>\n",
       "      <td>24.0</td>\n",
       "    </tr>\n",
       "    <tr>\n",
       "      <th>[38, 42)</th>\n",
       "      <td>10.9</td>\n",
       "      <td>22.0</td>\n",
       "    </tr>\n",
       "    <tr>\n",
       "      <th>[42, 46)</th>\n",
       "      <td>3.5</td>\n",
       "      <td>7.0</td>\n",
       "    </tr>\n",
       "    <tr>\n",
       "      <th>[46, 50)</th>\n",
       "      <td>3.5</td>\n",
       "      <td>7.0</td>\n",
       "    </tr>\n",
       "    <tr>\n",
       "      <th>[50, 54)</th>\n",
       "      <td>4.5</td>\n",
       "      <td>9.0</td>\n",
       "    </tr>\n",
       "    <tr>\n",
       "      <th>[54, 58)</th>\n",
       "      <td>4.0</td>\n",
       "      <td>8.0</td>\n",
       "    </tr>\n",
       "    <tr>\n",
       "      <th>[58, 62)</th>\n",
       "      <td>2.5</td>\n",
       "      <td>5.0</td>\n",
       "    </tr>\n",
       "    <tr>\n",
       "      <th>[62, 66)</th>\n",
       "      <td>2.0</td>\n",
       "      <td>4.0</td>\n",
       "    </tr>\n",
       "    <tr>\n",
       "      <th>[66, 70)</th>\n",
       "      <td>0.0</td>\n",
       "      <td>0.0</td>\n",
       "    </tr>\n",
       "    <tr>\n",
       "      <th>[70, 74)</th>\n",
       "      <td>0.0</td>\n",
       "      <td>0.0</td>\n",
       "    </tr>\n",
       "    <tr>\n",
       "      <th>[74, 78)</th>\n",
       "      <td>0.0</td>\n",
       "      <td>0.0</td>\n",
       "    </tr>\n",
       "    <tr>\n",
       "      <th>[78, 82)</th>\n",
       "      <td>0.0</td>\n",
       "      <td>0.0</td>\n",
       "    </tr>\n",
       "  </tbody>\n",
       "</table>\n",
       "</div>"
      ],
      "text/plain": [
       "          RELATIVA  ABSOLUTA\n",
       "[22, 26)       6.5      13.0\n",
       "[26, 30)      14.9      30.0\n",
       "[30, 34)      35.8      72.0\n",
       "[34, 38)      11.9      24.0\n",
       "[38, 42)      10.9      22.0\n",
       "[42, 46)       3.5       7.0\n",
       "[46, 50)       3.5       7.0\n",
       "[50, 54)       4.5       9.0\n",
       "[54, 58)       4.0       8.0\n",
       "[58, 62)       2.5       5.0\n",
       "[62, 66)       2.0       4.0\n",
       "[66, 70)       0.0       0.0\n",
       "[70, 74)       0.0       0.0\n",
       "[74, 78)       0.0       0.0\n",
       "[78, 82)       0.0       0.0"
      ]
     },
     "execution_count": 15,
     "metadata": {},
     "output_type": "execute_result"
    }
   ],
   "source": [
    "relativa1926xabsoluta1926 = pd.DataFrame([relativa1926,absoluta1926]).T\n",
    "relativa1926xabsoluta1926.columns = ['RELATIVA', 'ABSOLUTA']\n",
    "relativa1926xabsoluta1926"
   ]
  },
  {
   "cell_type": "markdown",
   "metadata": {},
   "source": [
    "### Dados 2000"
   ]
  },
  {
   "cell_type": "code",
   "execution_count": 17,
   "metadata": {
    "collapsed": false
   },
   "outputs": [
    {
     "data": {
      "text/plain": [
       "count    201.000000\n",
       "mean      68.012856\n",
       "std        9.211812\n",
       "min       45.700000\n",
       "25%       61.400000\n",
       "50%       71.200000\n",
       "75%       75.000000\n",
       "max       81.100000\n",
       "Name: L2000, dtype: float64"
      ]
     },
     "execution_count": 17,
     "metadata": {},
     "output_type": "execute_result"
    }
   ],
   "source": [
    "dados2000.describe()"
   ]
  },
  {
   "cell_type": "code",
   "execution_count": 18,
   "metadata": {
    "collapsed": false
   },
   "outputs": [
    {
     "name": "stdout",
     "output_type": "stream",
     "text": [
      "Frequências relativas 2000:\n"
     ]
    },
    {
     "data": {
      "text/plain": [
       "[22, 26)     0.0\n",
       "[26, 30)     0.0\n",
       "[30, 34)     0.0\n",
       "[34, 38)     0.0\n",
       "[38, 42)     0.0\n",
       "[42, 46)     0.5\n",
       "[46, 50)     3.0\n",
       "[50, 54)     9.0\n",
       "[54, 58)     5.5\n",
       "[58, 62)     9.0\n",
       "[62, 66)     9.0\n",
       "[66, 70)    10.0\n",
       "[70, 74)    22.4\n",
       "[74, 78)    20.9\n",
       "[78, 82)    10.9\n",
       "Name: L2000, dtype: float64"
      ]
     },
     "execution_count": 18,
     "metadata": {},
     "output_type": "execute_result"
    }
   ],
   "source": [
    "Idades2000cat = pd.cut(dados2000, faixa, False)\n",
    "print('Frequências relativas 2000:')\n",
    "relativa2000 = (Idades2000cat.value_counts(True)*100).round(decimals=1).reindex(['[22, 26)','[26, 30)','[30, 34)','[34, 38)','[38, 42)','[42, 46)','[46, 50)','[50, 54)','[54, 58)','[58, 62)','[62, 66)','[66, 70)','[70, 74)','[74, 78)','[78, 82)',])\n",
    "relativa2000"
   ]
  },
  {
   "cell_type": "code",
   "execution_count": 19,
   "metadata": {
    "collapsed": false
   },
   "outputs": [
    {
     "name": "stdout",
     "output_type": "stream",
     "text": [
      "Frequências Absoluta 2000:\n"
     ]
    },
    {
     "data": {
      "text/plain": [
       "[22, 26)     0\n",
       "[26, 30)     0\n",
       "[30, 34)     0\n",
       "[34, 38)     0\n",
       "[38, 42)     0\n",
       "[42, 46)     1\n",
       "[46, 50)     6\n",
       "[50, 54)    18\n",
       "[54, 58)    11\n",
       "[58, 62)    18\n",
       "[62, 66)    18\n",
       "[66, 70)    20\n",
       "[70, 74)    45\n",
       "[74, 78)    42\n",
       "[78, 82)    22\n",
       "Name: L2000, dtype: int64"
      ]
     },
     "execution_count": 19,
     "metadata": {},
     "output_type": "execute_result"
    }
   ],
   "source": [
    "print('Frequências Absoluta 2000:')\n",
    "absoluta2000 = (Idades2000cat.value_counts()).reindex(['[22, 26)','[26, 30)','[30, 34)','[34, 38)','[38, 42)','[42, 46)','[46, 50)','[50, 54)','[54, 58)','[58, 62)','[62, 66)','[66, 70)','[70, 74)','[74, 78)','[78, 82)',])\n",
    "absoluta2000"
   ]
  },
  {
   "cell_type": "code",
   "execution_count": 20,
   "metadata": {
    "collapsed": false
   },
   "outputs": [
    {
     "data": {
      "text/html": [
       "<div>\n",
       "<table border=\"1\" class=\"dataframe\">\n",
       "  <thead>\n",
       "    <tr style=\"text-align: right;\">\n",
       "      <th></th>\n",
       "      <th>RELATIVA</th>\n",
       "      <th>ABSOLUTA</th>\n",
       "    </tr>\n",
       "  </thead>\n",
       "  <tbody>\n",
       "    <tr>\n",
       "      <th>[22, 26)</th>\n",
       "      <td>0.0</td>\n",
       "      <td>0.0</td>\n",
       "    </tr>\n",
       "    <tr>\n",
       "      <th>[26, 30)</th>\n",
       "      <td>0.0</td>\n",
       "      <td>0.0</td>\n",
       "    </tr>\n",
       "    <tr>\n",
       "      <th>[30, 34)</th>\n",
       "      <td>0.0</td>\n",
       "      <td>0.0</td>\n",
       "    </tr>\n",
       "    <tr>\n",
       "      <th>[34, 38)</th>\n",
       "      <td>0.0</td>\n",
       "      <td>0.0</td>\n",
       "    </tr>\n",
       "    <tr>\n",
       "      <th>[38, 42)</th>\n",
       "      <td>0.0</td>\n",
       "      <td>0.0</td>\n",
       "    </tr>\n",
       "    <tr>\n",
       "      <th>[42, 46)</th>\n",
       "      <td>0.5</td>\n",
       "      <td>1.0</td>\n",
       "    </tr>\n",
       "    <tr>\n",
       "      <th>[46, 50)</th>\n",
       "      <td>3.0</td>\n",
       "      <td>6.0</td>\n",
       "    </tr>\n",
       "    <tr>\n",
       "      <th>[50, 54)</th>\n",
       "      <td>9.0</td>\n",
       "      <td>18.0</td>\n",
       "    </tr>\n",
       "    <tr>\n",
       "      <th>[54, 58)</th>\n",
       "      <td>5.5</td>\n",
       "      <td>11.0</td>\n",
       "    </tr>\n",
       "    <tr>\n",
       "      <th>[58, 62)</th>\n",
       "      <td>9.0</td>\n",
       "      <td>18.0</td>\n",
       "    </tr>\n",
       "    <tr>\n",
       "      <th>[62, 66)</th>\n",
       "      <td>9.0</td>\n",
       "      <td>18.0</td>\n",
       "    </tr>\n",
       "    <tr>\n",
       "      <th>[66, 70)</th>\n",
       "      <td>10.0</td>\n",
       "      <td>20.0</td>\n",
       "    </tr>\n",
       "    <tr>\n",
       "      <th>[70, 74)</th>\n",
       "      <td>22.4</td>\n",
       "      <td>45.0</td>\n",
       "    </tr>\n",
       "    <tr>\n",
       "      <th>[74, 78)</th>\n",
       "      <td>20.9</td>\n",
       "      <td>42.0</td>\n",
       "    </tr>\n",
       "    <tr>\n",
       "      <th>[78, 82)</th>\n",
       "      <td>10.9</td>\n",
       "      <td>22.0</td>\n",
       "    </tr>\n",
       "  </tbody>\n",
       "</table>\n",
       "</div>"
      ],
      "text/plain": [
       "          RELATIVA  ABSOLUTA\n",
       "[22, 26)       0.0       0.0\n",
       "[26, 30)       0.0       0.0\n",
       "[30, 34)       0.0       0.0\n",
       "[34, 38)       0.0       0.0\n",
       "[38, 42)       0.0       0.0\n",
       "[42, 46)       0.5       1.0\n",
       "[46, 50)       3.0       6.0\n",
       "[50, 54)       9.0      18.0\n",
       "[54, 58)       5.5      11.0\n",
       "[58, 62)       9.0      18.0\n",
       "[62, 66)       9.0      18.0\n",
       "[66, 70)      10.0      20.0\n",
       "[70, 74)      22.4      45.0\n",
       "[74, 78)      20.9      42.0\n",
       "[78, 82)      10.9      22.0"
      ]
     },
     "execution_count": 20,
     "metadata": {},
     "output_type": "execute_result"
    }
   ],
   "source": [
    "relativa2000xabsoluta2000 = pd.DataFrame([relativa2000,absoluta2000]).T\n",
    "relativa2000xabsoluta2000.columns = ['RELATIVA', 'ABSOLUTA']\n",
    "relativa2000xabsoluta2000"
   ]
  },
  {
   "cell_type": "code",
   "execution_count": 21,
   "metadata": {
    "collapsed": false
   },
   "outputs": [
    {
     "data": {
      "text/html": [
       "<div>\n",
       "<table border=\"1\" class=\"dataframe\">\n",
       "  <thead>\n",
       "    <tr style=\"text-align: right;\">\n",
       "      <th></th>\n",
       "      <th>RELATIVA 1800</th>\n",
       "      <th>RELATIVA 1926</th>\n",
       "      <th>RELATIVA 2000</th>\n",
       "    </tr>\n",
       "  </thead>\n",
       "  <tbody>\n",
       "    <tr>\n",
       "      <th>[22, 26)</th>\n",
       "      <td>10.4</td>\n",
       "      <td>6.5</td>\n",
       "      <td>0.0</td>\n",
       "    </tr>\n",
       "    <tr>\n",
       "      <th>[26, 30)</th>\n",
       "      <td>21.9</td>\n",
       "      <td>14.9</td>\n",
       "      <td>0.0</td>\n",
       "    </tr>\n",
       "    <tr>\n",
       "      <th>[30, 34)</th>\n",
       "      <td>43.8</td>\n",
       "      <td>35.8</td>\n",
       "      <td>0.0</td>\n",
       "    </tr>\n",
       "    <tr>\n",
       "      <th>[34, 38)</th>\n",
       "      <td>18.9</td>\n",
       "      <td>11.9</td>\n",
       "      <td>0.0</td>\n",
       "    </tr>\n",
       "    <tr>\n",
       "      <th>[38, 42)</th>\n",
       "      <td>4.5</td>\n",
       "      <td>10.9</td>\n",
       "      <td>0.0</td>\n",
       "    </tr>\n",
       "    <tr>\n",
       "      <th>[42, 46)</th>\n",
       "      <td>0.5</td>\n",
       "      <td>3.5</td>\n",
       "      <td>0.5</td>\n",
       "    </tr>\n",
       "    <tr>\n",
       "      <th>[46, 50)</th>\n",
       "      <td>0.0</td>\n",
       "      <td>3.5</td>\n",
       "      <td>3.0</td>\n",
       "    </tr>\n",
       "    <tr>\n",
       "      <th>[50, 54)</th>\n",
       "      <td>0.0</td>\n",
       "      <td>4.5</td>\n",
       "      <td>9.0</td>\n",
       "    </tr>\n",
       "    <tr>\n",
       "      <th>[54, 58)</th>\n",
       "      <td>0.0</td>\n",
       "      <td>4.0</td>\n",
       "      <td>5.5</td>\n",
       "    </tr>\n",
       "    <tr>\n",
       "      <th>[58, 62)</th>\n",
       "      <td>0.0</td>\n",
       "      <td>2.5</td>\n",
       "      <td>9.0</td>\n",
       "    </tr>\n",
       "    <tr>\n",
       "      <th>[62, 66)</th>\n",
       "      <td>0.0</td>\n",
       "      <td>2.0</td>\n",
       "      <td>9.0</td>\n",
       "    </tr>\n",
       "    <tr>\n",
       "      <th>[66, 70)</th>\n",
       "      <td>0.0</td>\n",
       "      <td>0.0</td>\n",
       "      <td>10.0</td>\n",
       "    </tr>\n",
       "    <tr>\n",
       "      <th>[70, 74)</th>\n",
       "      <td>0.0</td>\n",
       "      <td>0.0</td>\n",
       "      <td>22.4</td>\n",
       "    </tr>\n",
       "    <tr>\n",
       "      <th>[74, 78)</th>\n",
       "      <td>0.0</td>\n",
       "      <td>0.0</td>\n",
       "      <td>20.9</td>\n",
       "    </tr>\n",
       "    <tr>\n",
       "      <th>[78, 82)</th>\n",
       "      <td>0.0</td>\n",
       "      <td>0.0</td>\n",
       "      <td>10.9</td>\n",
       "    </tr>\n",
       "  </tbody>\n",
       "</table>\n",
       "</div>"
      ],
      "text/plain": [
       "          RELATIVA 1800  RELATIVA 1926  RELATIVA 2000\n",
       "[22, 26)           10.4            6.5            0.0\n",
       "[26, 30)           21.9           14.9            0.0\n",
       "[30, 34)           43.8           35.8            0.0\n",
       "[34, 38)           18.9           11.9            0.0\n",
       "[38, 42)            4.5           10.9            0.0\n",
       "[42, 46)            0.5            3.5            0.5\n",
       "[46, 50)            0.0            3.5            3.0\n",
       "[50, 54)            0.0            4.5            9.0\n",
       "[54, 58)            0.0            4.0            5.5\n",
       "[58, 62)            0.0            2.5            9.0\n",
       "[62, 66)            0.0            2.0            9.0\n",
       "[66, 70)            0.0            0.0           10.0\n",
       "[70, 74)            0.0            0.0           22.4\n",
       "[74, 78)            0.0            0.0           20.9\n",
       "[78, 82)            0.0            0.0           10.9"
      ]
     },
     "execution_count": 21,
     "metadata": {},
     "output_type": "execute_result"
    }
   ],
   "source": [
    "relativa_geral = pd.DataFrame([relativa1800xabsoluta1800.RELATIVA,relativa1926xabsoluta1926.RELATIVA,relativa2000xabsoluta2000.RELATIVA]).T\n",
    "relativa_geral.columns = [\"RELATIVA 1800\",\"RELATIVA 1926\",\"RELATIVA 2000\"]\n",
    "relativa_geral"
   ]
  },
  {
   "cell_type": "code",
   "execution_count": 22,
   "metadata": {
    "collapsed": false
   },
   "outputs": [
    {
     "data": {
      "text/html": [
       "<div>\n",
       "<table border=\"1\" class=\"dataframe\">\n",
       "  <thead>\n",
       "    <tr style=\"text-align: right;\">\n",
       "      <th></th>\n",
       "      <th>ABSOLUTA 1800</th>\n",
       "      <th>ABSOLUTA 1926</th>\n",
       "      <th>ABSOLUTA 2000</th>\n",
       "    </tr>\n",
       "  </thead>\n",
       "  <tbody>\n",
       "    <tr>\n",
       "      <th>[22, 26)</th>\n",
       "      <td>21.0</td>\n",
       "      <td>13.0</td>\n",
       "      <td>0.0</td>\n",
       "    </tr>\n",
       "    <tr>\n",
       "      <th>[26, 30)</th>\n",
       "      <td>44.0</td>\n",
       "      <td>30.0</td>\n",
       "      <td>0.0</td>\n",
       "    </tr>\n",
       "    <tr>\n",
       "      <th>[30, 34)</th>\n",
       "      <td>88.0</td>\n",
       "      <td>72.0</td>\n",
       "      <td>0.0</td>\n",
       "    </tr>\n",
       "    <tr>\n",
       "      <th>[34, 38)</th>\n",
       "      <td>38.0</td>\n",
       "      <td>24.0</td>\n",
       "      <td>0.0</td>\n",
       "    </tr>\n",
       "    <tr>\n",
       "      <th>[38, 42)</th>\n",
       "      <td>9.0</td>\n",
       "      <td>22.0</td>\n",
       "      <td>0.0</td>\n",
       "    </tr>\n",
       "    <tr>\n",
       "      <th>[42, 46)</th>\n",
       "      <td>1.0</td>\n",
       "      <td>7.0</td>\n",
       "      <td>1.0</td>\n",
       "    </tr>\n",
       "    <tr>\n",
       "      <th>[46, 50)</th>\n",
       "      <td>0.0</td>\n",
       "      <td>7.0</td>\n",
       "      <td>6.0</td>\n",
       "    </tr>\n",
       "    <tr>\n",
       "      <th>[50, 54)</th>\n",
       "      <td>0.0</td>\n",
       "      <td>9.0</td>\n",
       "      <td>18.0</td>\n",
       "    </tr>\n",
       "    <tr>\n",
       "      <th>[54, 58)</th>\n",
       "      <td>0.0</td>\n",
       "      <td>8.0</td>\n",
       "      <td>11.0</td>\n",
       "    </tr>\n",
       "    <tr>\n",
       "      <th>[58, 62)</th>\n",
       "      <td>0.0</td>\n",
       "      <td>5.0</td>\n",
       "      <td>18.0</td>\n",
       "    </tr>\n",
       "    <tr>\n",
       "      <th>[62, 66)</th>\n",
       "      <td>0.0</td>\n",
       "      <td>4.0</td>\n",
       "      <td>18.0</td>\n",
       "    </tr>\n",
       "    <tr>\n",
       "      <th>[66, 70)</th>\n",
       "      <td>0.0</td>\n",
       "      <td>0.0</td>\n",
       "      <td>20.0</td>\n",
       "    </tr>\n",
       "    <tr>\n",
       "      <th>[70, 74)</th>\n",
       "      <td>0.0</td>\n",
       "      <td>0.0</td>\n",
       "      <td>45.0</td>\n",
       "    </tr>\n",
       "    <tr>\n",
       "      <th>[74, 78)</th>\n",
       "      <td>0.0</td>\n",
       "      <td>0.0</td>\n",
       "      <td>42.0</td>\n",
       "    </tr>\n",
       "    <tr>\n",
       "      <th>[78, 82)</th>\n",
       "      <td>0.0</td>\n",
       "      <td>0.0</td>\n",
       "      <td>22.0</td>\n",
       "    </tr>\n",
       "  </tbody>\n",
       "</table>\n",
       "</div>"
      ],
      "text/plain": [
       "          ABSOLUTA 1800  ABSOLUTA 1926  ABSOLUTA 2000\n",
       "[22, 26)           21.0           13.0            0.0\n",
       "[26, 30)           44.0           30.0            0.0\n",
       "[30, 34)           88.0           72.0            0.0\n",
       "[34, 38)           38.0           24.0            0.0\n",
       "[38, 42)            9.0           22.0            0.0\n",
       "[42, 46)            1.0            7.0            1.0\n",
       "[46, 50)            0.0            7.0            6.0\n",
       "[50, 54)            0.0            9.0           18.0\n",
       "[54, 58)            0.0            8.0           11.0\n",
       "[58, 62)            0.0            5.0           18.0\n",
       "[62, 66)            0.0            4.0           18.0\n",
       "[66, 70)            0.0            0.0           20.0\n",
       "[70, 74)            0.0            0.0           45.0\n",
       "[74, 78)            0.0            0.0           42.0\n",
       "[78, 82)            0.0            0.0           22.0"
      ]
     },
     "execution_count": 22,
     "metadata": {},
     "output_type": "execute_result"
    }
   ],
   "source": [
    "absoluta_geral = pd.DataFrame([relativa1800xabsoluta1800.ABSOLUTA , relativa1926xabsoluta1926.ABSOLUTA , relativa2000xabsoluta2000.ABSOLUTA]).T\n",
    "absoluta_geral.columns = [\"ABSOLUTA 1800\",\"ABSOLUTA 1926\",\"ABSOLUTA 2000\"]\n",
    "absoluta_geral"
   ]
  },
  {
   "cell_type": "markdown",
   "metadata": {},
   "source": [
    "# Grafico de colunas"
   ]
  },
  {
   "cell_type": "code",
   "execution_count": 43,
   "metadata": {
    "collapsed": false
   },
   "outputs": [
    {
     "data": {
      "text/plain": [
       "(0, 60)"
      ]
     },
     "execution_count": 43,
     "metadata": {},
     "output_type": "execute_result"
    },
    {
     "data": {
      "image/png": "[encoded data removed]",
      "text/plain": [
       "<matplotlib.figure.Figure at 0x2061387b898>"
      ]
     },
     "metadata": {},
     "output_type": "display_data"
    }
   ],
   "source": [
    "# Gráfico de colunas com frequência relativa\n",
    "plot = dados1800.plot.hist(bins=faixa, color=('red'), title='GRAFICO DE COLUNAS - Ano de 1800', weights=zeros_like(dados1800)+1./dados1800.size*100, figsize=(6, 6), alpha=0.5)\n",
    "plt.ylabel('Frequência Relativa (em %)')\n",
    "plt.xlabel('Idade em anos')\n",
    "\n",
    "# Gráfico de colunas com frequência relativa\n",
    "plot = dados1926.plot.hist(bins=faixa, color=('yellow'), title='GRAFICO DE COLUNAS - Ano de 1926', weights=zeros_like(dados1926)+1./dados1926.size*100, figsize=(6, 6), alpha=0.5)\n",
    "plt.ylabel('Frequência Relativa (em %)')\n",
    "plt.xlabel('Idade em anos')\n",
    "\n",
    "\n",
    "# Gráfico de colunas com frequência relativa\n",
    "plot = dados2000.plot.hist(bins=faixa, color=('green'), title='GRAFICO DE COLUNAS - Ano de 2000', weights=zeros_like(dados2000)+1./dados2000.size*100, figsize=(6, 6), alpha=0.5)\n",
    "plt.ylabel('Frequência Relativa (em %)')\n",
    "plt.xlabel('Idade em anos')\n",
    "\n",
    "plt.ylim([0,60])\n"
   ]
  },
  {
   "cell_type": "code",
   "execution_count": 31,
   "metadata": {
    "collapsed": false
   },
   "outputs": [
    {
     "data": {
      "image/png": "[encoded data removed]",
      "text/plain": [
       "<matplotlib.figure.Figure at 0x20612d6be80>"
      ]
     },
     "metadata": {},
     "output_type": "display_data"
    }
   ],
   "source": [
    "g, axarr = plt.subplots(3,figsize=(5,10))\n",
    "axarr[0].hist(dados1800 ,bins=faixa ,color=('red'), alpha=0.9)\n",
    "axarr[0].set_title('GRAFICO DE COLUNAS - Ano de 1800')\n",
    "axarr[0].set_xlabel('Expectativa de vida em anos')\n",
    "axarr[0].set_ylabel('Frequência Relativa (em%)')\n",
    "axarr[0].set_ylim([0, 100])\n",
    "\n",
    "\n",
    "axarr[1].hist(dados1926 ,bins=faixa, color=('yellow') , alpha=0.9)\n",
    "axarr[1].set_title('GRAFICO DE COLUNAS - Ano de 1926')\n",
    "axarr[1].set_xlabel('Expectativa de vida em anos')\n",
    "axarr[1].set_ylabel('Frequência Relativa (em%)')\n",
    "axarr[1].set_ylim([0, 100])\n",
    "\n",
    "axarr[2].hist(dados2000 ,bins=faixa, color=('green'), alpha=0.9)\n",
    "axarr[2].set_title('GRAFICO DE COLUNAS - Ano de 2000')\n",
    "axarr[2].set_xlabel('Expectativa de vida em anos')\n",
    "axarr[2].set_ylabel('Frequência Relativa (em%)')\n",
    "axarr[2].set_ylim([0, 100])\n",
    "\n",
    "plt.tight_layout(1)"
   ]
  },
  {
   "cell_type": "markdown",
   "metadata": {},
   "source": [
    "# Histogramas"
   ]
  },
  {
   "cell_type": "code",
   "execution_count": 26,
   "metadata": {
    "collapsed": false
   },
   "outputs": [
    {
     "data": {
      "image/png": "[encoded data removed]",
      "text/plain": [
       "<matplotlib.figure.Figure at 0x20611932f60>"
      ]
     },
     "metadata": {},
     "output_type": "display_data"
    }
   ],
   "source": [
    "f, axarr = plt.subplots(3,figsize=(5,10))\n",
    "axarr[0].hist(dados1800 ,bins=faixa ,color=('red') ,normed=True, alpha=0.9)\n",
    "axarr[0].set_title('HISTOGRAMA - Ano de 1800')\n",
    "axarr[0].set_xlabel('Expectativa de vida em anos')\n",
    "axarr[0].set_ylabel('Densidade')\n",
    "axarr[0].set_ylim([0, 0.12])\n",
    "\n",
    "\n",
    "axarr[1].hist(dados1926 ,bins=faixa, color=('yellow') ,normed=True, alpha=0.9)\n",
    "axarr[1].set_title('HISTOGRAMA - Ano de 1926')\n",
    "axarr[1].set_xlabel('Expectativa de vida em anos')\n",
    "axarr[1].set_ylabel('Densidade')\n",
    "axarr[1].set_ylim([0, 0.12])\n",
    "\n",
    "axarr[2].hist(dados2000 ,bins=faixa, color=('green') ,normed=True, alpha=0.9)\n",
    "axarr[2].set_title('HISTOGRAMA - Ano de 2000')\n",
    "axarr[2].set_xlabel('Expectativa de vida em anos')\n",
    "axarr[2].set_ylabel('Densidade')\n",
    "axarr[2].set_ylim([0, 0.12])\n",
    "\n",
    "plt.tight_layout(1)"
   ]
  },
  {
   "cell_type": "markdown",
   "metadata": {},
   "source": [
    "## Conclusão"
   ]
  },
  {
   "cell_type": "markdown",
   "metadata": {},
   "source": [
    "### HISTOGRAMA - Ano de 1800"
   ]
  },
  {
   "cell_type": "markdown",
   "metadata": {},
   "source": [
    "O histograma de expectativa de vida de 1800 tem uma leve assimetria a direita, mas pode ser considerado simétrico e tem um acumulo de densidade entre 25 e 35 anos, o que significa que essa era aproximadamente a média de vida da maioria da população daquela época."
   ]
  },
  {
   "cell_type": "code",
   "execution_count": 56,
   "metadata": {
    "collapsed": false
   },
   "outputs": [
    {
     "name": "stdout",
     "output_type": "stream",
     "text": [
      "Expectativa média de vida de 1800:  31.485799715054547\n",
      "Expectativa mediana de vida de 1800:  31.8\n",
      "Classe modal de 1800:  32.0\n"
     ]
    }
   ],
   "source": [
    "print('Expectativa média de vida de 1800: ', dados1800.mean()) \n",
    "print('Expectativa mediana de vida de 1800: ', dados1800.median()) \n",
    "print('Moda de 1800: ',dados1800.mode()[0])"
   ]
  },
  {
   "cell_type": "markdown",
   "metadata": {},
   "source": [
    "### HISTOGRAMA - Ano de 1926"
   ]
  },
  {
   "cell_type": "markdown",
   "metadata": {},
   "source": [
    "O histograma de expectativa de vida de 1926 demostra uma maior assimetria a direita se comparado com o de 1800 indicando que um número maior de pessoas vivem cada vez mais, porém vemos que ainda são poucos os que vivem mais."
   ]
  },
  {
   "cell_type": "code",
   "execution_count": 54,
   "metadata": {
    "collapsed": false
   },
   "outputs": [
    {
     "name": "stdout",
     "output_type": "stream",
     "text": [
      "Expectativa média de vida de 1926:  36.35349645910288\n",
      "Expectativa mediana de vida de 1926:  32.8\n",
      "Classe modal de 1926:  32.0\n"
     ]
    }
   ],
   "source": [
    "print('Expectativa média de vida de 1926: ', dados1926.mean()) \n",
    "print('Expectativa mediana de vida de 1926: ', dados1926.median()) \n",
    "print('Classe modal de 1926: ',dados1926.mode()[0])"
   ]
  },
  {
   "cell_type": "markdown",
   "metadata": {},
   "source": [
    "### HISTOGRAMA - Ano de 2000"
   ]
  },
  {
   "cell_type": "markdown",
   "metadata": {},
   "source": [
    "O histograma de expectativa de vida de 2000 apresenta números completamente diferentes dos outros dois. Com uma assimetria a esquerda demostra que as pessoas passaram a viver bem mais e quase ninguém vive menos que 40 anos."
   ]
  },
  {
   "cell_type": "code",
   "execution_count": 55,
   "metadata": {
    "collapsed": false
   },
   "outputs": [
    {
     "name": "stdout",
     "output_type": "stream",
     "text": [
      "Expectativa média de vida de 2000:  68.01285572139301\n",
      "Expectativa mediana de vida de 2000:  71.2\n",
      "Classe modal de 2000:  73.8\n"
     ]
    }
   ],
   "source": [
    "print('Expectativa média de vida de 2000: ', dados2000.mean()) \n",
    "print('Expectativa mediana de vida de 2000: ', dados2000.median()) \n",
    "print('Classe modal de 2000: ',dados2000.mode()[0])\n"
   ]
  },
  {
   "cell_type": "markdown",
   "metadata": {},
   "source": [
    "Ano 1800: Média: 31.485799715054547, Mediana: 31.8, Moda: 32.\n",
    "                \n",
    "Ano 1926: Média: 36.35349645910288, Mediana: 32.8, Moda: 32.\n",
    "\n",
    "Ano 2000: Média: 68.01285572139301, Mediana: 71.2, Moda: 73.8.\n"
   ]
  }
 ],
 "metadata": {
  "anaconda-cloud": {},
  "kernelspec": {
   "display_name": "Python [default]",
   "language": "python",
   "name": "python3"
  },
  "language_info": {
   "codemirror_mode": {
    "name": "ipython",
    "version": 3
   },
   "file_extension": ".py",
   "mimetype": "text/x-python",
   "name": "python",
   "nbconvert_exporter": "python",
   "pygments_lexer": "ipython3",
   "version": "3.5.2"
  }
 },
 "nbformat": 4,
 "nbformat_minor": 0
}
