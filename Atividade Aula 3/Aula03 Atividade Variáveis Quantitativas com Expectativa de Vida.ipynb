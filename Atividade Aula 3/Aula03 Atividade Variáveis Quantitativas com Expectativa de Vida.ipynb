{
 "cells": [
  {
   "cell_type": "markdown",
   "metadata": {},
   "source": [
    "___\n",
    "# Atividade: Variáveis quantitativas com Expectativa de Vida\n",
    "___\n",
    "\n",
    "## Aula 03\n",
    "\n",
    "\n",
    "\n",
    "**Preparo prévio:**\n",
    "1.\tLeitura prévia necessária: Magalhães e Lima (7ª. Edição): pág. 9 a 17 – destacando para variáveis quantitativas; pág. 106 e 107 (Definição 4.1 e Exemplo 4.1).\n",
    "\n",
    "**Hoje:**\n",
    "1. Explorar a variável quantitativa Expectativa de Vida de diversos países do mundo nos anos: 1800, 1926 e 2000. \n",
    "2. Construir tabelas de frequências e interpretar resultados considerando variáveis quantitativas de forma univariada. \n",
    "4. Explicar vantagens e desvantagens sobre o uso da frequência ou da densidade na construção de um histograma e saber interpretá-lo. \n",
    "5. Desenvolver contas para obtenção da média e mediana nos três anos.\n",
    "6. Identificar o formato dos dados (simétrico, assimétrico positivo ou assimétrico negativo) ao observar um histograma e explicar o que cada formato pode impactar nas medidas de posição.\n",
    "\n",
    "\n",
    "**Próxima aula:**\n",
    "1. Leitura prévia necessária: Magalhães e Lima (7ª. Edição): pág. 18 a 25; pág. 106 e 107 (Definição 4.1 e Exemplo 4.1); pág. 116 e 117 (Definição 4.4 e Exemplo 4.8). \n",
    "2. Leitura prévia necessária: Montgomery et al (5ª. Edição): pág. 24 a 28.\n",
    "___\n"
   ]
  },
  {
   "cell_type": "markdown",
   "metadata": {},
   "source": [
    "## <font color='blue'>Expectativa de Vida - LIFE</font>\n",
    "\n",
    "O Banco Mundial (http://data.worldbank.org/brazilian-portuguese) disponibiliza bases de dados estatísticos para um pouco mais de 200 países do mundo desde o ano 1800, as quais consideram uma seleção abrangente de indicadores econômicos, sociais e ambientais. Um desses indicadores é a expectativa de vida (em anos) de cada país.\n",
    "\n",
    "O arquivo `Life.xlsx` contém a expectativa de vida de vários países para os anos 1800, 1926 e 2000.\n",
    "\n",
    "Considerando esses dados, faça as seguintes tarefas:\n",
    "\n",
    "1.\tConstrua uma tabela de frequências absolutas e relativas (em %) para cada um dos anos. \n",
    "\n",
    "2.\tConstrua um histograma para cada ano e interprete os gráficos. \n",
    "\n",
    "3. De acordo com o formato de um histograma, é possível classificar a distribuição dos dados como sendo: simétrica, assimétrica positiva (ou a direita) ou assimétrica negativa (ou a esquerda). Observando o formato de cada histograma construído no item anterior, classifique como sendo simétrico, assimétrico positivo ou assimétrico negativo. Argumente claramente o motivo de sua classificação. \n",
    "![AssimSim](AssimSim.jpg)\n",
    "\n",
    "4.\tPara cada ano, calcule a expectativa média de vida, a expectativa mediana de vida e a classe modal.\n",
    "\n",
    "5.\tPara cada um dos três anos, ordene os valores das medidas de posição (média, mediana e classe modal) obtidas no item anterior. A ordem dessas três medidas de posição é um mero acaso ou pode ser consequência do formato dos dados? Argumente claramente sua resposta.\n"
   ]
  },
  {
   "cell_type": "code",
   "execution_count": 1,
   "metadata": {
    "collapsed": false
   },
   "outputs": [],
   "source": [
    "%matplotlib inline\n",
    "import pandas as pd\n",
    "import matplotlib.pyplot as plt\n",
    "import os"
   ]
  },
  {
   "cell_type": "code",
   "execution_count": 2,
   "metadata": {
    "collapsed": false
   },
   "outputs": [
    {
     "name": "stdout",
     "output_type": "stream",
     "text": [
      "Esperamos trabalhar no diretório\n",
      "C:\\Users\\gabri\\Documents\\INSPER\\Ciencia dos Dados\\DP\\CDAgoraVai\\aula03\\Atividade\n"
     ]
    }
   ],
   "source": [
    "print('Esperamos trabalhar no diretório')\n",
    "print(os.getcwd())"
   ]
  },
  {
   "cell_type": "code",
   "execution_count": 3,
   "metadata": {
    "collapsed": false
   },
   "outputs": [],
   "source": [
    "dados = pd.read_excel('Life.xlsx')"
   ]
  },
  {
   "cell_type": "code",
   "execution_count": 4,
   "metadata": {
    "collapsed": false
   },
   "outputs": [
    {
     "data": {
      "text/html": [
       "<div>\n",
       "<table border=\"1\" class=\"dataframe\">\n",
       "  <thead>\n",
       "    <tr style=\"text-align: right;\">\n",
       "      <th></th>\n",
       "      <th>Pais</th>\n",
       "      <th>L1800</th>\n",
       "      <th>L1926</th>\n",
       "      <th>L2000</th>\n",
       "    </tr>\n",
       "  </thead>\n",
       "  <tbody>\n",
       "    <tr>\n",
       "      <th>0</th>\n",
       "      <td>Afghanistan</td>\n",
       "      <td>28.2110</td>\n",
       "      <td>26.919920</td>\n",
       "      <td>51.0</td>\n",
       "    </tr>\n",
       "    <tr>\n",
       "      <th>1</th>\n",
       "      <td>Albania</td>\n",
       "      <td>35.4000</td>\n",
       "      <td>35.400000</td>\n",
       "      <td>74.2</td>\n",
       "    </tr>\n",
       "    <tr>\n",
       "      <th>2</th>\n",
       "      <td>Algeria</td>\n",
       "      <td>28.8224</td>\n",
       "      <td>30.968000</td>\n",
       "      <td>73.2</td>\n",
       "    </tr>\n",
       "    <tr>\n",
       "      <th>3</th>\n",
       "      <td>Angola</td>\n",
       "      <td>26.9800</td>\n",
       "      <td>26.980000</td>\n",
       "      <td>52.6</td>\n",
       "    </tr>\n",
       "    <tr>\n",
       "      <th>4</th>\n",
       "      <td>Antigua and Barbuda</td>\n",
       "      <td>33.5360</td>\n",
       "      <td>37.673931</td>\n",
       "      <td>73.9</td>\n",
       "    </tr>\n",
       "  </tbody>\n",
       "</table>\n",
       "</div>"
      ],
      "text/plain": [
       "                  Pais    L1800      L1926  L2000\n",
       "0          Afghanistan  28.2110  26.919920   51.0\n",
       "1              Albania  35.4000  35.400000   74.2\n",
       "2              Algeria  28.8224  30.968000   73.2\n",
       "3               Angola  26.9800  26.980000   52.6\n",
       "4  Antigua and Barbuda  33.5360  37.673931   73.9"
      ]
     },
     "execution_count": 4,
     "metadata": {},
     "output_type": "execute_result"
    }
   ],
   "source": [
    "dados.head()"
   ]
  },
  {
   "cell_type": "code",
   "execution_count": 26,
   "metadata": {
    "collapsed": false
   },
   "outputs": [],
   "source": [
    "dados1800 = dados.iloc[:,1]\n",
    "dados1926 = dados.iloc[:,2]\n",
    "dados2000 = dados.iloc[:,3]\n",
    "#dados1800\n",
    "#dados2000"
   ]
  },
  {
   "cell_type": "code",
   "execution_count": 9,
   "metadata": {
    "collapsed": false
   },
   "outputs": [
    {
     "data": {
      "text/plain": [
       "count    201.000000\n",
       "mean      31.485800\n",
       "std        3.763625\n",
       "min       23.387000\n",
       "25%       29.000000\n",
       "50%       31.800000\n",
       "75%       33.900000\n",
       "max       42.845599\n",
       "Name: L1800, dtype: float64"
      ]
     },
     "execution_count": 9,
     "metadata": {},
     "output_type": "execute_result"
    }
   ],
   "source": [
    "dados1800.describe()"
   ]
  },
  {
   "cell_type": "code",
   "execution_count": 20,
   "metadata": {
    "collapsed": false
   },
   "outputs": [
    {
     "name": "stdout",
     "output_type": "stream",
     "text": [
      "[22, 26, 30, 34, 38, 42, 46, 50, 54, 58, 62, 66, 70, 74, 78, 82]\n"
     ]
    }
   ],
   "source": [
    "faixa = list(range(22,83,4))\n",
    "print(faixa)"
   ]
  },
  {
   "cell_type": "code",
   "execution_count": 28,
   "metadata": {
    "collapsed": false
   },
   "outputs": [
    {
     "name": "stdout",
     "output_type": "stream",
     "text": [
      "Frequências relativas 1800:\n"
     ]
    },
    {
     "data": {
      "text/plain": [
       "[22, 26)    10.4\n",
       "[26, 30)    21.9\n",
       "[30, 34)    43.8\n",
       "[34, 38)    18.9\n",
       "[38, 42)     4.5\n",
       "[42, 46)     0.5\n",
       "[46, 50)     0.0\n",
       "[50, 54)     0.0\n",
       "[54, 58)     0.0\n",
       "[58, 62)     0.0\n",
       "[62, 66)     0.0\n",
       "[66, 70)     0.0\n",
       "[70, 74)     0.0\n",
       "[74, 78)     0.0\n",
       "[78, 82)     0.0\n",
       "Name: L1800, dtype: float64"
      ]
     },
     "execution_count": 28,
     "metadata": {},
     "output_type": "execute_result"
    }
   ],
   "source": [
    "Idades1800cat = pd.cut(dados1800, faixa, False)\n",
    "print('Frequências relativas 1800:')\n",
    "ut1 = (Idades1800cat.value_counts(True)*100).round(decimals=1).reindex(['[22, 26)','[26, 30)','[30, 34)','[34, 38)','[38, 42)','[42, 46)','[46, 50)','[50, 54)','[54, 58)','[58, 62)','[62, 66)','[66, 70)','[70, 74)','[74, 78)','[78, 82)',])\n",
    "ut1"
   ]
  },
  {
   "cell_type": "code",
   "execution_count": 36,
   "metadata": {
    "collapsed": false
   },
   "outputs": [
    {
     "data": {
      "text/plain": [
       "<matplotlib.text.Text at 0x19f04f35780>"
      ]
     },
     "execution_count": 36,
     "metadata": {},
     "output_type": "execute_result"
    },
    {
     "data": {
      "image/png": "[encoded data removed]",
      "text/plain": [
       "<matplotlib.figure.Figure at 0x19f04f35128>"
      ]
     },
     "metadata": {},
     "output_type": "display_data"
    }
   ],
   "source": [
    "# Gráfico de colunas com frequência absoluta\n",
    "plot = dados1800.plot.hist(bins=faixa,title='´GRAFICO DE COLUNAS - Ano de 1800', figsize=(6, 6), alpha=0.9)\n",
    "plt.ylabel('Frequência absoluta')\n",
    "plt.xlabel('Idade em anos')"
   ]
  },
  {
   "cell_type": "code",
   "execution_count": 41,
   "metadata": {
    "collapsed": false
   },
   "outputs": [
    {
     "data": {
      "text/plain": [
       "<matplotlib.text.Text at 0x19f04f8a978>"
      ]
     },
     "execution_count": 41,
     "metadata": {},
     "output_type": "execute_result"
    },
    {
     "data": {
      "image/png": "[encoded data removed]",
      "text/plain": [
       "<matplotlib.figure.Figure at 0x19f05684b38>"
      ]
     },
     "metadata": {},
     "output_type": "display_data"
    }
   ],
   "source": [
    "plot = dados1800.plot.hist(bins=faixa,title='´HISTOGRAMA - Ano de 1800',normed=True, figsize=(6, 6), alpha=0.9)\n",
    "plt.ylabel('Frequência absoluta')\n",
    "plt.xlabel('Idade em anos')"
   ]
  },
  {
   "cell_type": "code",
   "execution_count": 27,
   "metadata": {
    "collapsed": false
   },
   "outputs": [
    {
     "data": {
      "text/plain": [
       "count    201.000000\n",
       "mean      36.353496\n",
       "std        9.590987\n",
       "min       23.387000\n",
       "25%       30.400000\n",
       "50%       32.800000\n",
       "75%       39.360000\n",
       "max       63.260000\n",
       "Name: L1926, dtype: float64"
      ]
     },
     "execution_count": 27,
     "metadata": {},
     "output_type": "execute_result"
    }
   ],
   "source": [
    "dados1926.describe()"
   ]
  },
  {
   "cell_type": "code",
   "execution_count": 31,
   "metadata": {
    "collapsed": false
   },
   "outputs": [
    {
     "name": "stdout",
     "output_type": "stream",
     "text": [
      "Frequências relativas 1926:\n"
     ]
    },
    {
     "data": {
      "text/plain": [
       "[22, 26)     6.5\n",
       "[26, 30)    14.9\n",
       "[30, 34)    35.8\n",
       "[34, 38)    11.9\n",
       "[38, 42)    10.9\n",
       "[42, 46)     3.5\n",
       "[46, 50)     3.5\n",
       "[50, 54)     4.5\n",
       "[54, 58)     4.0\n",
       "[58, 62)     2.5\n",
       "[62, 66)     2.0\n",
       "[66, 70)     0.0\n",
       "[70, 74)     0.0\n",
       "[74, 78)     0.0\n",
       "[78, 82)     0.0\n",
       "Name: L1926, dtype: float64"
      ]
     },
     "execution_count": 31,
     "metadata": {},
     "output_type": "execute_result"
    }
   ],
   "source": [
    "Idades1926cat = pd.cut(dados1926, faixa, False)\n",
    "print('Frequências relativas 1926:')\n",
    "ut2 = (Idades1926cat.value_counts(True)*100).round(decimals=1).reindex(['[22, 26)','[26, 30)','[30, 34)','[34, 38)','[38, 42)','[42, 46)','[46, 50)','[50, 54)','[54, 58)','[58, 62)','[62, 66)','[66, 70)','[70, 74)','[74, 78)','[78, 82)',])\n",
    "ut2"
   ]
  },
  {
   "cell_type": "code",
   "execution_count": 42,
   "metadata": {
    "collapsed": false
   },
   "outputs": [
    {
     "data": {
      "text/plain": [
       "<matplotlib.text.Text at 0x19f0516bb00>"
      ]
     },
     "execution_count": 42,
     "metadata": {},
     "output_type": "execute_result"
    },
    {
     "data": {
      "image/png": "[encoded data removed]",
      "text/plain": [
       "<matplotlib.figure.Figure at 0x19f057291d0>"
      ]
     },
     "metadata": {},
     "output_type": "display_data"
    }
   ],
   "source": [
    "plot = dados1926.plot.hist(bins=faixa,title='´HISTOGRAMA - Ano de 1926', normed=True, figsize=(6, 6), alpha=0.9)\n",
    "plt.ylabel('Frequência absoluta')\n",
    "plt.xlabel('Idade em anos')"
   ]
  },
  {
   "cell_type": "code",
   "execution_count": 13,
   "metadata": {
    "collapsed": false
   },
   "outputs": [
    {
     "data": {
      "text/plain": [
       "count    201.000000\n",
       "mean      68.012856\n",
       "std        9.211812\n",
       "min       45.700000\n",
       "25%       61.400000\n",
       "50%       71.200000\n",
       "75%       75.000000\n",
       "max       81.100000\n",
       "Name: L2000, dtype: float64"
      ]
     },
     "execution_count": 13,
     "metadata": {},
     "output_type": "execute_result"
    }
   ],
   "source": [
    "dados2000.describe()"
   ]
  },
  {
   "cell_type": "code",
   "execution_count": 32,
   "metadata": {
    "collapsed": false
   },
   "outputs": [
    {
     "name": "stdout",
     "output_type": "stream",
     "text": [
      "Frequências relativas 2000:\n"
     ]
    },
    {
     "data": {
      "text/plain": [
       "[22, 26)     0.0\n",
       "[26, 30)     0.0\n",
       "[30, 34)     0.0\n",
       "[34, 38)     0.0\n",
       "[38, 42)     0.0\n",
       "[42, 46)     0.5\n",
       "[46, 50)     3.0\n",
       "[50, 54)     9.0\n",
       "[54, 58)     5.5\n",
       "[58, 62)     9.0\n",
       "[62, 66)     9.0\n",
       "[66, 70)    10.0\n",
       "[70, 74)    22.4\n",
       "[74, 78)    20.9\n",
       "[78, 82)    10.9\n",
       "Name: L2000, dtype: float64"
      ]
     },
     "execution_count": 32,
     "metadata": {},
     "output_type": "execute_result"
    }
   ],
   "source": [
    "Idades2000cat = pd.cut(dados2000, faixa, False)\n",
    "print('Frequências relativas 2000:')\n",
    "ut3 = (Idades2000cat.value_counts(True)*100).round(decimals=1).reindex(['[22, 26)','[26, 30)','[30, 34)','[34, 38)','[38, 42)','[42, 46)','[46, 50)','[50, 54)','[54, 58)','[58, 62)','[62, 66)','[66, 70)','[70, 74)','[74, 78)','[78, 82)',])\n",
    "ut3"
   ]
  },
  {
   "cell_type": "code",
   "execution_count": 44,
   "metadata": {
    "collapsed": false
   },
   "outputs": [
    {
     "data": {
      "text/plain": [
       "<matplotlib.text.Text at 0x19f05714cf8>"
      ]
     },
     "execution_count": 44,
     "metadata": {},
     "output_type": "execute_result"
    },
    {
     "data": {
      "image/png": "[encoded data removed]",
      "text/plain": [
       "<matplotlib.figure.Figure at 0x19f05778780>"
      ]
     },
     "metadata": {},
     "output_type": "display_data"
    }
   ],
   "source": [
    "plot = dados2000.plot.hist(bins=faixa,title='´HISTOGRAMA - Ano de 2000', normed = True, figsize=(6, 6), alpha=0.9)\n",
    "plt.ylabel('Frequência absoluta')\n",
    "plt.xlabel('Idade em anos')"
   ]
  }
 ],
 "metadata": {
  "anaconda-cloud": {},
  "kernelspec": {
   "display_name": "Python [default]",
   "language": "python",
   "name": "python3"
  },
  "language_info": {
   "codemirror_mode": {
    "name": "ipython",
    "version": 3
   },
   "file_extension": ".py",
   "mimetype": "text/x-python",
   "name": "python",
   "nbconvert_exporter": "python",
   "pygments_lexer": "ipython3",
   "version": "3.5.2"
  }
 },
 "nbformat": 4,
 "nbformat_minor": 0
}
