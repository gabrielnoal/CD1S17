{
 "cells": [
  {
   "cell_type": "markdown",
   "metadata": {},
   "source": [
    "___\n",
    "# Atividade: Análise Exploratória da variável quantitativa -  Salários\n",
    "___\n",
    "\n",
    "## Aula 04\n",
    "\n",
    "\n",
    "**Preparo prévio:**\n",
    "1. Leitura prévia necessária: Magalhães e Lima (7ª. Edição): pág. 18 a 25; pág. 106 e 107 (Definição 4.1 e Exemplo 4.1); pág. 116 e 117 (Definição 4.4 e Exemplo 4.8). \n",
    "2. Leitura prévia necessária: Montgomery et al (5ª. Edição): pág. 24 a 28.\n",
    "\n",
    "**Hoje:**\n",
    "1. Desenvolver medidas que gerem informações para interpretação de variáveis quantitativas.\n",
    "2. Interpretar o comportamento de uma variável quantitativa a partir dos formatos de um histograma e/ou um box-plot.\n",
    "3. Comparar cenários, a partir dos gráficos e medidas calculadas, para tomada de decisão.\n",
    "\n",
    "\n",
    "**Próxima aula:**\n",
    "1. Leitura prévia necessária: Montgomery et al (5ª. Edição) - Seção 2.6: Dados Multivariados.\n",
    "___"
   ]
  },
  {
   "cell_type": "markdown",
   "metadata": {},
   "source": [
    "** Atenção **\n",
    "\n",
    "Este notebook não vai ser entregue/verificado, mas você deve fazê-lo para garantir uma melhor assimilação dos conteúdos."
   ]
  },
  {
   "cell_type": "markdown",
   "metadata": {},
   "source": [
    "## <font color='blue'>Salários de profissionais</font>\n",
    "\n",
    "A base de dados `Salarios.txt` apresenta salários de quatro profissões diferentes, aqui, nomeadas de: A, B, C e D. \n",
    "\n",
    "Considere que esses salários foram mensurados para mil trabalhadores escolhidos aleatoriamente dentro de cada profissão. \n",
    "\n",
    "O arquivo `Salarios.xlsx` contém essas informações.\n",
    "\n",
    "Considerando esses dados, faça as seguintes tarefas:\n",
    "\n",
    "1. Calcule as medidas resumo principais (de posição e de dispersão). \n",
    "\n",
    "2. Calcule os percentis de 10% a 90% dos salários de cada profissão.\n",
    "\n",
    "3. Construa o gráfico de boxplot  para cada profissão e interprete-o.\n",
    "\n",
    "4. Construa um histograma com os salários de cada profissão e interprete-o.\n",
    "\n",
    "5. Descreva a particularidade de cada gráfico para auxiliar na interpretação e compreensão do comportamento dos dados.\n",
    "___"
   ]
  },
  {
   "cell_type": "code",
   "execution_count": 1,
   "metadata": {
    "collapsed": false
   },
   "outputs": [],
   "source": [
    "%matplotlib inline\n",
    "import pandas as pd\n",
    "import matplotlib.pyplot as plt\n",
    "import numpy as np\n",
    "import os"
   ]
  },
  {
   "cell_type": "code",
   "execution_count": 2,
   "metadata": {
    "collapsed": false
   },
   "outputs": [
    {
     "name": "stdout",
     "output_type": "stream",
     "text": [
      "Esperamos trabalhar no diretório\n",
      "C:\\Users\\gabri\\Documents\\INSPER\\Ciencia dos Dados\\DP\\CD1S17\\aula04\n"
     ]
    }
   ],
   "source": [
    "print('Esperamos trabalhar no diretório')\n",
    "print(os.getcwd())"
   ]
  },
  {
   "cell_type": "code",
   "execution_count": 3,
   "metadata": {
    "collapsed": false
   },
   "outputs": [],
   "source": [
    "sal = pd.read_table('Salario.txt', sep=' ')"
   ]
  },
  {
   "cell_type": "code",
   "execution_count": 4,
   "metadata": {
    "collapsed": false
   },
   "outputs": [
    {
     "data": {
      "text/html": [
       "<div>\n",
       "<table border=\"1\" class=\"dataframe\">\n",
       "  <thead>\n",
       "    <tr style=\"text-align: right;\">\n",
       "      <th></th>\n",
       "      <th>A</th>\n",
       "      <th>B</th>\n",
       "      <th>C</th>\n",
       "      <th>D</th>\n",
       "    </tr>\n",
       "  </thead>\n",
       "  <tbody>\n",
       "    <tr>\n",
       "      <th>1</th>\n",
       "      <td>5697.85</td>\n",
       "      <td>4274.63</td>\n",
       "      <td>3443.46</td>\n",
       "      <td>2188.63</td>\n",
       "    </tr>\n",
       "    <tr>\n",
       "      <th>2</th>\n",
       "      <td>3305.24</td>\n",
       "      <td>5190.90</td>\n",
       "      <td>1012.56</td>\n",
       "      <td>1459.63</td>\n",
       "    </tr>\n",
       "    <tr>\n",
       "      <th>3</th>\n",
       "      <td>4643.24</td>\n",
       "      <td>4712.98</td>\n",
       "      <td>2565.48</td>\n",
       "      <td>3872.68</td>\n",
       "    </tr>\n",
       "    <tr>\n",
       "      <th>4</th>\n",
       "      <td>5750.45</td>\n",
       "      <td>5946.04</td>\n",
       "      <td>5638.32</td>\n",
       "      <td>1726.71</td>\n",
       "    </tr>\n",
       "    <tr>\n",
       "      <th>5</th>\n",
       "      <td>5683.33</td>\n",
       "      <td>6264.91</td>\n",
       "      <td>1489.46</td>\n",
       "      <td>2802.22</td>\n",
       "    </tr>\n",
       "  </tbody>\n",
       "</table>\n",
       "</div>"
      ],
      "text/plain": [
       "         A        B        C        D\n",
       "1  5697.85  4274.63  3443.46  2188.63\n",
       "2  3305.24  5190.90  1012.56  1459.63\n",
       "3  4643.24  4712.98  2565.48  3872.68\n",
       "4  5750.45  5946.04  5638.32  1726.71\n",
       "5  5683.33  6264.91  1489.46  2802.22"
      ]
     },
     "execution_count": 4,
     "metadata": {},
     "output_type": "execute_result"
    }
   ],
   "source": [
    "sal.head()"
   ]
  },
  {
   "cell_type": "code",
   "execution_count": 24,
   "metadata": {
    "collapsed": false
   },
   "outputs": [
    {
     "data": {
      "text/html": [
       "<div>\n",
       "<table border=\"1\" class=\"dataframe\">\n",
       "  <thead>\n",
       "    <tr style=\"text-align: right;\">\n",
       "      <th></th>\n",
       "      <th>A</th>\n",
       "      <th>B</th>\n",
       "      <th>C</th>\n",
       "      <th>D</th>\n",
       "    </tr>\n",
       "  </thead>\n",
       "  <tbody>\n",
       "    <tr>\n",
       "      <th>count</th>\n",
       "      <td>1000.000000</td>\n",
       "      <td>1000.000000</td>\n",
       "      <td>1000.000000</td>\n",
       "      <td>1000.000000</td>\n",
       "    </tr>\n",
       "    <tr>\n",
       "      <th>mean</th>\n",
       "      <td>4683.116910</td>\n",
       "      <td>4470.739760</td>\n",
       "      <td>4207.062150</td>\n",
       "      <td>3252.781340</td>\n",
       "    </tr>\n",
       "    <tr>\n",
       "      <th>std</th>\n",
       "      <td>1217.427775</td>\n",
       "      <td>1206.365793</td>\n",
       "      <td>1880.275849</td>\n",
       "      <td>1285.510735</td>\n",
       "    </tr>\n",
       "    <tr>\n",
       "      <th>min</th>\n",
       "      <td>806.840000</td>\n",
       "      <td>745.380000</td>\n",
       "      <td>1003.800000</td>\n",
       "      <td>862.290000</td>\n",
       "    </tr>\n",
       "    <tr>\n",
       "      <th>25%</th>\n",
       "      <td>3888.915000</td>\n",
       "      <td>3607.732500</td>\n",
       "      <td>2584.717500</td>\n",
       "      <td>2345.997500</td>\n",
       "    </tr>\n",
       "    <tr>\n",
       "      <th>50%</th>\n",
       "      <td>4838.560000</td>\n",
       "      <td>4486.440000</td>\n",
       "      <td>4264.840000</td>\n",
       "      <td>3076.090000</td>\n",
       "    </tr>\n",
       "    <tr>\n",
       "      <th>75%</th>\n",
       "      <td>5608.157500</td>\n",
       "      <td>5332.467500</td>\n",
       "      <td>5891.862500</td>\n",
       "      <td>3895.955000</td>\n",
       "    </tr>\n",
       "    <tr>\n",
       "      <th>max</th>\n",
       "      <td>6966.520000</td>\n",
       "      <td>8540.120000</td>\n",
       "      <td>7492.650000</td>\n",
       "      <td>9570.730000</td>\n",
       "    </tr>\n",
       "  </tbody>\n",
       "</table>\n",
       "</div>"
      ],
      "text/plain": [
       "                 A            B            C            D\n",
       "count  1000.000000  1000.000000  1000.000000  1000.000000\n",
       "mean   4683.116910  4470.739760  4207.062150  3252.781340\n",
       "std    1217.427775  1206.365793  1880.275849  1285.510735\n",
       "min     806.840000   745.380000  1003.800000   862.290000\n",
       "25%    3888.915000  3607.732500  2584.717500  2345.997500\n",
       "50%    4838.560000  4486.440000  4264.840000  3076.090000\n",
       "75%    5608.157500  5332.467500  5891.862500  3895.955000\n",
       "max    6966.520000  8540.120000  7492.650000  9570.730000"
      ]
     },
     "execution_count": 24,
     "metadata": {},
     "output_type": "execute_result"
    }
   ],
   "source": [
    "sal.describe()"
   ]
  },
  {
   "cell_type": "code",
   "execution_count": 15,
   "metadata": {
    "collapsed": false
   },
   "outputs": [
    {
     "name": "stderr",
     "output_type": "stream",
     "text": [
      "C:\\Users\\gabri\\Anaconda3\\lib\\site-packages\\ipykernel\\__main__.py:1: FutureWarning: \n",
      "The default value for 'return_type' will change to 'axes' in a future release.\n",
      " To use the future behavior now, set return_type='axes'.\n",
      " To keep the previous behavior and silence this warning, set return_type='dict'.\n",
      "  if __name__ == '__main__':\n"
     ]
    },
    {
     "data": {
      "text/plain": [
       "{'boxes': [<matplotlib.lines.Line2D at 0x226b40a44e0>,\n",
       "  <matplotlib.lines.Line2D at 0x226b40b8908>,\n",
       "  <matplotlib.lines.Line2D at 0x226b40cf278>,\n",
       "  <matplotlib.lines.Line2D at 0x226b40e0ba8>],\n",
       " 'caps': [<matplotlib.lines.Line2D at 0x226b40acf60>,\n",
       "  <matplotlib.lines.Line2D at 0x226b40b27b8>,\n",
       "  <matplotlib.lines.Line2D at 0x226b40c38d0>,\n",
       "  <matplotlib.lines.Line2D at 0x226b40c3a58>,\n",
       "  <matplotlib.lines.Line2D at 0x226b40d4b70>,\n",
       "  <matplotlib.lines.Line2D at 0x226b40d9a58>,\n",
       "  <matplotlib.lines.Line2D at 0x226b40ebb70>,\n",
       "  <matplotlib.lines.Line2D at 0x226b40ebcf8>],\n",
       " 'fliers': [<matplotlib.lines.Line2D at 0x226b40b8828>,\n",
       "  <matplotlib.lines.Line2D at 0x226b40caac8>,\n",
       "  <matplotlib.lines.Line2D at 0x226b40e0ac8>,\n",
       "  <matplotlib.lines.Line2D at 0x226b40f1d68>],\n",
       " 'means': [],\n",
       " 'medians': [<matplotlib.lines.Line2D at 0x226b40b2940>,\n",
       "  <matplotlib.lines.Line2D at 0x226b40ca2b0>,\n",
       "  <matplotlib.lines.Line2D at 0x226b40d9be0>,\n",
       "  <matplotlib.lines.Line2D at 0x226b40f1550>],\n",
       " 'whiskers': [<matplotlib.lines.Line2D at 0x226b40a4ef0>,\n",
       "  <matplotlib.lines.Line2D at 0x226b40ac748>,\n",
       "  <matplotlib.lines.Line2D at 0x226b40bd860>,\n",
       "  <matplotlib.lines.Line2D at 0x226b40bdf98>,\n",
       "  <matplotlib.lines.Line2D at 0x226b40cfb00>,\n",
       "  <matplotlib.lines.Line2D at 0x226b40d49e8>,\n",
       "  <matplotlib.lines.Line2D at 0x226b40e5b00>,\n",
       "  <matplotlib.lines.Line2D at 0x226b40e5c88>]}"
      ]
     },
     "execution_count": 15,
     "metadata": {},
     "output_type": "execute_result"
    },
    {
     "data": {
      "image/png": "[encoded data removed]",
      "text/plain": [
       "<matplotlib.figure.Figure at 0x226b3f349b0>"
      ]
     },
     "metadata": {},
     "output_type": "display_data"
    }
   ],
   "source": [
    "pd.DataFrame.boxplot(sal)"
   ]
  },
  {
   "cell_type": "code",
   "execution_count": 51,
   "metadata": {
    "collapsed": false
   },
   "outputs": [
    {
     "data": {
      "image/png": "[encoded data removed]",
      "text/plain": [
       "<matplotlib.figure.Figure at 0x226b7b4a588>"
      ]
     },
     "metadata": {},
     "output_type": "display_data"
    }
   ],
   "source": [
    "f, axarr = plt.subplots(4,figsize=(5,10))\n",
    "axarr[0].hist(sal.A ,bins=32 ,color=('red') , alpha=0.9)\n",
    "axarr[0].set_title('A')\n",
    "axarr[0].set_ylim([0, 90])\n",
    "axarr[0].set_xlim([0, 10000])\n",
    "\n",
    "axarr[1].hist(sal.B ,bins=32, color=('yellow') , alpha=0.9)\n",
    "axarr[1].set_title('B')\n",
    "axarr[1].set_ylim([0, 90])\n",
    "axarr[1].set_xlim([0, 10000])\n",
    "\n",
    "axarr[2].hist(sal.C ,bins=32, color=('green') , alpha=0.9)\n",
    "axarr[2].set_title('C')\n",
    "axarr[2].set_ylim([0, 90])\n",
    "axarr[2].set_xlim([0, 10000])\n",
    "\n",
    "axarr[3].hist(sal.C ,bins=32, color=('pink') , alpha=0.9)\n",
    "axarr[3].set_title('C')\n",
    "axarr[3].set_ylim([0, 90])\n",
    "axarr[3].set_xlim([0, 10000])\n",
    "\n",
    "\n",
    "plt.tight_layout(1)\n"
   ]
  }
 ],
 "metadata": {
  "anaconda-cloud": {},
  "kernelspec": {
   "display_name": "Python [default]",
   "language": "python",
   "name": "python3"
  },
  "language_info": {
   "codemirror_mode": {
    "name": "ipython",
    "version": 3
   },
   "file_extension": ".py",
   "mimetype": "text/x-python",
   "name": "python",
   "nbconvert_exporter": "python",
   "pygments_lexer": "ipython3",
   "version": "3.5.2"
  }
 },
 "nbformat": 4,
 "nbformat_minor": 0
}
