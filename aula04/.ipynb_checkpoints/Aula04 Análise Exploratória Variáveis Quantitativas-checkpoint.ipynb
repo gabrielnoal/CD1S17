{
 "cells": [
  {
   "cell_type": "markdown",
   "metadata": {},
   "source": [
    "___\n",
    "# Análise Exploratória: Variáveis quantitativas\n",
    "___\n",
    "\n",
    "## Aula 04\n",
    "\n",
    "\n",
    "\n",
    "**Preparo prévio:**\n",
    "1.\tLeitura prévia necessária: Magalhães e Lima (7ª. Edição): pág. 18 a 25; pág. 106 e 107 (Definição 4.1 e Exemplo 4.1); pág. 116 e 117 (Definição 4.4 e Exemplo 4.8). \n",
    "2. Leitura prévia necessária: Montgomery et al (5ª. Edição): pág. 24 a 28.\n",
    "\n",
    "**Hoje:**\n",
    "1. Desenvolver medidas que gerem informações para interpretação de variáveis quantitativas.\n",
    "2. Interpretar o comportamento de uma variável quantitativa a partir dos formatos de um histograma e/ou um box-plot.\n",
    "3. Comparar cenários, a partir dos gráficos e medidas calculadas, para tomada de decisão.\n",
    "\n",
    "\n",
    "**Próxima aula:**\n",
    "1. Leitura prévia necessária: Montgomery et al (5ª. Edição) - Seção 2.6: Dados Multivariados.\n",
    "___\n"
   ]
  },
  {
   "cell_type": "markdown",
   "metadata": {},
   "source": [
    "## <font color='blue'>Expectativa de Vida - LIFE</font>\n",
    "\n",
    "O Banco Mundial (http://data.worldbank.org/brazilian-portuguese) disponibiliza bases de dados estatísticos para um pouco mais de 200 países do mundo desde o ano 1800, as quais consideram uma seleção abrangente de indicadores econômicos, sociais e ambientais. Um desses indicadores é a expectativa de vida (em anos) de cada país.\n",
    "\n",
    "O arquivo `Life.xlsx` contém a expectativa de vida de vários países para os anos 1800, 1926 e 2000.\n",
    "\n",
    "Considerando esses dados, faça as seguintes tarefas:\n",
    "\n",
    "1.\tCalcule as medidas resumo principais (de posição e de dispersão). \n",
    "\n",
    "2.\tCalcule os percentis 10% a 90% das expectativas de vida de cada ano.\n",
    "\n",
    "3. Construa o gráfico de boxplot  para cada ano e interprete-o. \n"
   ]
  },
  {
   "cell_type": "code",
   "execution_count": 1,
   "metadata": {
    "collapsed": false
   },
   "outputs": [],
   "source": [
    "%matplotlib inline\n",
    "import pandas as pd\n",
    "import matplotlib.pyplot as plt\n",
    "import os\n",
    "import numpy as np"
   ]
  },
  {
   "cell_type": "code",
   "execution_count": 2,
   "metadata": {
    "collapsed": false
   },
   "outputs": [
    {
     "name": "stdout",
     "output_type": "stream",
     "text": [
      "Esperamos trabalhar no diretório\n",
      "C:\\Users\\Kelly_2\\Dropbox\\Insper Aulas\\DataScience DP\\2017.1\\aulas\\Aula04 - Variáveis Quantitativas - Boxplot e Medidas de dispersão\n"
     ]
    }
   ],
   "source": [
    "print('Esperamos trabalhar no diretório')\n",
    "print(os.getcwd())"
   ]
  },
  {
   "cell_type": "code",
   "execution_count": 3,
   "metadata": {
    "collapsed": false
   },
   "outputs": [],
   "source": [
    "dados = pd.read_excel('Life.xlsx')"
   ]
  },
  {
   "cell_type": "markdown",
   "metadata": {
    "collapsed": false
   },
   "source": [
    "___\n",
    "# Medidas de posição e dispersão"
   ]
  },
  {
   "cell_type": "code",
   "execution_count": 4,
   "metadata": {
    "collapsed": false
   },
   "outputs": [
    {
     "data": {
      "text/html": [
       "<div>\n",
       "<table border=\"1\" class=\"dataframe\">\n",
       "  <thead>\n",
       "    <tr style=\"text-align: right;\">\n",
       "      <th></th>\n",
       "      <th>L1800</th>\n",
       "      <th>L1926</th>\n",
       "      <th>L2000</th>\n",
       "    </tr>\n",
       "  </thead>\n",
       "  <tbody>\n",
       "    <tr>\n",
       "      <th>count</th>\n",
       "      <td>201.000000</td>\n",
       "      <td>201.000000</td>\n",
       "      <td>201.000000</td>\n",
       "    </tr>\n",
       "    <tr>\n",
       "      <th>mean</th>\n",
       "      <td>31.485800</td>\n",
       "      <td>36.353496</td>\n",
       "      <td>68.012856</td>\n",
       "    </tr>\n",
       "    <tr>\n",
       "      <th>std</th>\n",
       "      <td>3.763625</td>\n",
       "      <td>9.590987</td>\n",
       "      <td>9.211812</td>\n",
       "    </tr>\n",
       "    <tr>\n",
       "      <th>min</th>\n",
       "      <td>23.387000</td>\n",
       "      <td>23.387000</td>\n",
       "      <td>45.700000</td>\n",
       "    </tr>\n",
       "    <tr>\n",
       "      <th>25%</th>\n",
       "      <td>29.000000</td>\n",
       "      <td>30.400000</td>\n",
       "      <td>61.400000</td>\n",
       "    </tr>\n",
       "    <tr>\n",
       "      <th>50%</th>\n",
       "      <td>31.800000</td>\n",
       "      <td>32.800000</td>\n",
       "      <td>71.200000</td>\n",
       "    </tr>\n",
       "    <tr>\n",
       "      <th>75%</th>\n",
       "      <td>33.900000</td>\n",
       "      <td>39.360000</td>\n",
       "      <td>75.000000</td>\n",
       "    </tr>\n",
       "    <tr>\n",
       "      <th>max</th>\n",
       "      <td>42.845599</td>\n",
       "      <td>63.260000</td>\n",
       "      <td>81.100000</td>\n",
       "    </tr>\n",
       "  </tbody>\n",
       "</table>\n",
       "</div>"
      ],
      "text/plain": [
       "            L1800       L1926       L2000\n",
       "count  201.000000  201.000000  201.000000\n",
       "mean    31.485800   36.353496   68.012856\n",
       "std      3.763625    9.590987    9.211812\n",
       "min     23.387000   23.387000   45.700000\n",
       "25%     29.000000   30.400000   61.400000\n",
       "50%     31.800000   32.800000   71.200000\n",
       "75%     33.900000   39.360000   75.000000\n",
       "max     42.845599   63.260000   81.100000"
      ]
     },
     "execution_count": 4,
     "metadata": {},
     "output_type": "execute_result"
    }
   ],
   "source": [
    "#Via descrive()\n",
    "dados.describe()"
   ]
  },
  {
   "cell_type": "code",
   "execution_count": 5,
   "metadata": {
    "collapsed": false
   },
   "outputs": [],
   "source": [
    "#Medidas-resumo via comandos\n",
    "m1800 = dados.L1800.mean()\n",
    "med1800 = dados.L1800.median()\n",
    "dp1800 = dados.L1800.std()\n",
    "dma1800 = dados.L1800.mad()\n",
    "var1800 = dados.L1800.var()\n",
    "n1800 = len(dados.L1800)\n",
    "\n",
    "m1926 = dados.L1926.mean()\n",
    "med1926 = dados.L1926.median()\n",
    "dp1926 = dados.L1926.std()\n",
    "dma1926 = dados.L1926.mad()\n",
    "var1926 = dados.L1926.var()\n",
    "n1926 = len(dados.L1926)\n",
    "\n",
    "m2000 = dados.L2000.mean()\n",
    "med2000 = dados.L2000.median()\n",
    "dp2000 = dados.L2000.std()\n",
    "dma2000 = dados.L2000.mad()\n",
    "var2000 = dados.L2000.var()\n",
    "n2000 = len(dados.L2000)"
   ]
  },
  {
   "cell_type": "code",
   "execution_count": 6,
   "metadata": {
    "collapsed": false
   },
   "outputs": [
    {
     "name": "stdout",
     "output_type": "stream",
     "text": [
      "[['Média:' '31.485799715054547' '36.35349645910288' '68.01285572139301']\n",
      " ['Mediana:' '31.8' '32.8' '71.2']\n",
      " ['Desvio Padrão:' '3.7636250521434502' '9.59098676864021'\n",
      "  '9.21181238378635']\n",
      " ['Variância:' '14.164873533121789' '91.9870271962316' '84.85748739407956']\n",
      " ['Desvio Médio Absoluto:' '2.987978263160056' '7.400514334701711'\n",
      "  '7.788425336006537']\n",
      " ['n:' '201' '201' '201']]\n"
     ]
    }
   ],
   "source": [
    "tab = np.array(\n",
    "          [[\"Média:\", m1800, m1926, m2000],\n",
    "          [\"Mediana:\", med1800, med1926, med2000],\n",
    "          [\"Desvio Padrão:\", dp1800, dp1926, dp2000],\n",
    "          [\"Variância:\", var1800, var1926, var2000],\n",
    "          [\"Desvio Médio Absoluto:\", dma1800, dma1926, dma2000],\n",
    "          [\"n:\", n1800, n1926, n2000]])\n",
    "print(tab)"
   ]
  },
  {
   "cell_type": "markdown",
   "metadata": {},
   "source": [
    "___\n",
    "# Percentis de ordem p -\n",
    "\n",
    "### Valor que divide p% dos menores valores dos (1-p)% maiores valores!!"
   ]
  },
  {
   "cell_type": "code",
   "execution_count": 7,
   "metadata": {
    "collapsed": false
   },
   "outputs": [
    {
     "name": "stdout",
     "output_type": "stream",
     "text": [
      "0.0 %:\n",
      "L1800    23.387\n",
      "L1926    23.387\n",
      "L2000    45.700\n",
      "dtype: float64\n",
      "10.0 %:\n",
      "L1800    25.986\n",
      "L1926    26.980\n",
      "L2000    52.600\n",
      "dtype: float64\n",
      "20.0 %:\n",
      "L1800    28.7\n",
      "L1926    29.8\n",
      "L2000    59.5\n",
      "dtype: float64\n",
      "30.0 %:\n",
      "L1800    29.7\n",
      "L1926    30.9\n",
      "L2000    63.6\n",
      "dtype: float64\n",
      "40.0 %:\n",
      "L1800    30.70000\n",
      "L1926    31.99072\n",
      "L2000    68.50000\n",
      "dtype: float64\n",
      "50.0 %:\n",
      "L1800    31.8\n",
      "L1926    32.8\n",
      "L2000    71.2\n",
      "dtype: float64\n",
      "60.0 %:\n",
      "L1800    32.300\n",
      "L1926    34.905\n",
      "L2000    72.900\n",
      "dtype: float64\n",
      "70.0 %:\n",
      "L1800    33.1\n",
      "L1926    38.4\n",
      "L2000    74.3\n",
      "dtype: float64\n",
      "80.0 %:\n",
      "L1800    34.7530\n",
      "L1926    40.9302\n",
      "L2000    76.0770\n",
      "dtype: float64\n",
      "90.0 %:\n",
      "L1800    36.20000\n",
      "L1926    53.30608\n",
      "L2000    78.10000\n",
      "dtype: float64\n",
      "100.0 %:\n",
      "L1800    42.845599\n",
      "L1926    63.260000\n",
      "L2000    81.100000\n",
      "dtype: float64\n"
     ]
    }
   ],
   "source": [
    "#Quantis    \n",
    "for p in np.arange(0,1.10,.10):\n",
    "    print(p*100,\"%:\")\n",
    "    print(dados.quantile(p))"
   ]
  },
  {
   "cell_type": "markdown",
   "metadata": {},
   "source": [
    "___\n",
    "\n",
    "## Boxplot para os anos 1800, 1926 e 2000"
   ]
  },
  {
   "cell_type": "code",
   "execution_count": 8,
   "metadata": {
    "collapsed": false
   },
   "outputs": [
    {
     "data": {
      "text/plain": [
       "<matplotlib.text.Text at 0x89f99e8>"
      ]
     },
     "execution_count": 8,
     "metadata": {},
     "output_type": "execute_result"
    },
    {
     "data": {
      "image/png": "[encoded data removed]",
      "text/plain": [
       "<matplotlib.figure.Figure at 0x897b1d0>"
      ]
     },
     "metadata": {},
     "output_type": "display_data"
    }
   ],
   "source": [
    "# Boxplot\n",
    "plot = dados.iloc[1:4].plot(kind='box',title='Expectativa de vida de países do mundo')#, color='red')\n",
    "plt.ylabel('(em anos)')\n",
    "plt.xlabel('Ano')"
   ]
  },
  {
   "cell_type": "code",
   "execution_count": null,
   "metadata": {
    "collapsed": true
   },
   "outputs": [],
   "source": []
  },
  {
   "cell_type": "code",
   "execution_count": null,
   "metadata": {
    "collapsed": true
   },
   "outputs": [],
   "source": []
  }
 ],
 "metadata": {
  "anaconda-cloud": {},
  "kernelspec": {
   "display_name": "Python [conda root]",
   "language": "python",
   "name": "conda-root-py"
  },
  "language_info": {
   "codemirror_mode": {
    "name": "ipython",
    "version": 3
   },
   "file_extension": ".py",
   "mimetype": "text/x-python",
   "name": "python",
   "nbconvert_exporter": "python",
   "pygments_lexer": "ipython3",
   "version": "3.5.2"
  }
 },
 "nbformat": 4,
 "nbformat_minor": 0
}
