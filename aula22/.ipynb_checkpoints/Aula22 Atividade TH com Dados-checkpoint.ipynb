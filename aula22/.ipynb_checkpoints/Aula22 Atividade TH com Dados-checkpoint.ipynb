{
 "cells": [
  {
   "cell_type": "markdown",
   "metadata": {},
   "source": [
    "# Aula 22 - Atividade para Teste de Hipóteses para média populacional assumindo desvio padrão populacional conhecido\n",
    "\n",
    "## Base de dados dos exercícios"
   ]
  },
  {
   "cell_type": "code",
   "execution_count": 1,
   "metadata": {
    "collapsed": true
   },
   "outputs": [],
   "source": [
    "import numpy as np\n",
    "import matplotlib.pyplot as plt\n",
    "import numpy.random as rnd\n",
    "from scipy.stats import norm\n",
    "%matplotlib inline"
   ]
  },
  {
   "cell_type": "markdown",
   "metadata": {},
   "source": [
    "___\n",
    "## Exercício 1 "
   ]
  },
  {
   "cell_type": "code",
   "execution_count": 2,
   "metadata": {
    "collapsed": true
   },
   "outputs": [],
   "source": [
    "data = [ 4.002,   0.489,   2.285,   0.634,\n",
    "         1.162,   0.649,   9.437,   1.212,\n",
    "         1.854,   1.958,   4.734,   0.976,\n",
    "         4.099,   0.698,   9.514,   1.241,\n",
    "         2.808,   0.517,   2.388,   3.083,\n",
    "         0.774,   1.011,   8.285,   0.711,\n",
    "         0.590,   3.257,   9.474,   2.331,\n",
    "         2.524,   2.375,   7.222,   5.260,\n",
    "         1.305,   0.800,   1.736,   5.760,\n",
    "         0.354,   4.532,   3.536,   2.827,\n",
    "         1.708,   8.476,   0.728,   5.958,\n",
    "         1.633,   6.368,   5.157,   7.457,   5.070]"
   ]
  },
  {
   "cell_type": "code",
   "execution_count": null,
   "metadata": {
    "collapsed": true
   },
   "outputs": [],
   "source": []
  },
  {
   "cell_type": "markdown",
   "metadata": {},
   "source": [
    "___\n",
    "## Exercício 2"
   ]
  },
  {
   "cell_type": "code",
   "execution_count": null,
   "metadata": {
    "collapsed": true
   },
   "outputs": [],
   "source": [
    "data = [114707,  113523,  117733,\n",
    "        111599,  115075,  115866,\n",
    "        116144,  116709,  118183,\n",
    "        114854,  115310,  113429,\n",
    "        112067,  114438,  117744,\n",
    "        110366,  113675,  113780,\n",
    "        116740,  111765,  115629,\n",
    "        113910,  115814,  118539,\n",
    "        115495]"
   ]
  },
  {
   "cell_type": "code",
   "execution_count": null,
   "metadata": {
    "collapsed": true
   },
   "outputs": [],
   "source": []
  },
  {
   "cell_type": "markdown",
   "metadata": {},
   "source": [
    "___\n",
    "## Exercício 3"
   ]
  },
  {
   "cell_type": "code",
   "execution_count": null,
   "metadata": {
    "collapsed": false
   },
   "outputs": [],
   "source": [
    "data = [31,46,13,3,13,17,34,55,16,54,7,36,48,81,107,24,6,18,35,50,51,25,20,9,26,37,26,16,22,24]"
   ]
  },
  {
   "cell_type": "code",
   "execution_count": null,
   "metadata": {
    "collapsed": true
   },
   "outputs": [],
   "source": []
  },
  {
   "cell_type": "code",
   "execution_count": null,
   "metadata": {
    "collapsed": true
   },
   "outputs": [],
   "source": []
  }
 ],
 "metadata": {
  "anaconda-cloud": {},
  "kernelspec": {
   "display_name": "Python [conda root]",
   "language": "python",
   "name": "conda-root-py"
  },
  "language_info": {
   "codemirror_mode": {
    "name": "ipython",
    "version": 3
   },
   "file_extension": ".py",
   "mimetype": "text/x-python",
   "name": "python",
   "nbconvert_exporter": "python",
   "pygments_lexer": "ipython3",
   "version": "3.5.2"
  }
 },
 "nbformat": 4,
 "nbformat_minor": 0
}
